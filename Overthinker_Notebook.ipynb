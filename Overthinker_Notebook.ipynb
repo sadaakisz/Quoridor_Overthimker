{
 "cells": [
  {
   "cell_type": "code",
   "execution_count": 1,
   "metadata": {},
   "outputs": [],
   "source": [
    "import matplotlib.pyplot as plt\n",
    "import numpy as np\n",
    "import keyboard as kb\n",
    "from IPython.display import clear_output\n",
    "#import matplotlib.image as mpimg"
   ]
  },
  {
   "cell_type": "code",
   "execution_count": 2,
   "metadata": {},
   "outputs": [],
   "source": [
    "class pawn:\n",
    "    'Pawn object that has x and y coordinates and can move by itself.'\n",
    "\n",
    "    #Constructor\n",
    "    def __init__(self, x=0, y=0):\n",
    "        self.x, self.y=x, y\n",
    "    \n",
    "    #Representación\n",
    "    def __repr__(self):\n",
    "        return \"[\"+str(self.x)+\", \"+str(self.y)+\"]\"\n",
    "    \n",
    "    #Movimiento:\n",
    "    def left(self):\n",
    "        if self.x > 0:\n",
    "            self.x-=1\n",
    "    def right(self):\n",
    "        if self.x < 8:\n",
    "            self.x+=1\n",
    "    def up(self):\n",
    "        if self.y > 0:\n",
    "            self.y-=1\n",
    "    def down(self):\n",
    "        if self.y < 8:\n",
    "            self.y+=1\n",
    "    \n",
    "    #Retorno de coordenadas como lista\n",
    "    def coord(self):\n",
    "        return [self.x, self.y]"
   ]
  },
  {
   "cell_type": "code",
   "execution_count": 3,
   "metadata": {},
   "outputs": [],
   "source": [
    "class pawnController:\n",
    "    'Board that manages pawn logic, wall collissions and pawn representation.'\n",
    "\n",
    "    #Constructor\n",
    "    def __init__(self):\n",
    "        self.pawn_list={}\n",
    "        self.board_wall=board_wall()\n",
    "    \n",
    "    #Añade el pawn a un diccionario\n",
    "    def add_pawn(self, name, pawn):\n",
    "        self.pawn_list[name]=pawn\n",
    "    \n",
    "    #Formatea el diccionario actual a una lista para usarlo en el drawBoard\n",
    "    def board(self):\n",
    "        board=[[0 for _ in range(9)] for _ in range(9)]\n",
    "        for i in self.pawn_list:\n",
    "            board[self.pawn_list[i].y][self.pawn_list[i].x]=1\n",
    "        return board\n",
    "    \n",
    "    def check_ady_pawn(self, name):\n",
    "        pawn_coord_list=[]\n",
    "        for i in self.pawn_list.values():\n",
    "            pawn_coord_list.append(tuple(i.coord()))\n",
    "        if len(pawn_coord_list)!=len(set(pawn_coord_list)):\n",
    "            return True\n",
    "        return False\n",
    "    \n",
    "    def move_pawn(self, name, direction):\n",
    "        this_pawn=self.pawn_list[name]\n",
    "        x=this_pawn.x\n",
    "        y=this_pawn.y\n",
    "        fx=None\n",
    "        fy=None\n",
    "        illegal_moves=self.board_wall.restricted_moves()\n",
    "        move=[[],[]]\n",
    "        if direction == \"up\":\n",
    "            fx=x\n",
    "            fy=y-1\n",
    "            move=[[x, y], [fx, fy]]\n",
    "            if move not in illegal_moves:\n",
    "                this_pawn.up()\n",
    "        elif direction == \"down\":\n",
    "            fx=x\n",
    "            fy=y+1\n",
    "            move=[[x, y], [fx, fy]]\n",
    "            if move not in illegal_moves:\n",
    "                this_pawn.down()\n",
    "        elif direction == \"left\":\n",
    "            fx=x-1\n",
    "            fy=y\n",
    "            move=[[x, y], [fx, fy]]\n",
    "            if move not in illegal_moves:\n",
    "                this_pawn.left()\n",
    "        elif direction == \"right\":\n",
    "            fx=x+1\n",
    "            fy=y\n",
    "            move=[[x, y], [fx, fy]]\n",
    "            if move not in illegal_moves:\n",
    "                this_pawn.right()\n",
    "        #logica si existe un pawn adyacente\n",
    "        if self.check_ady_pawn(name):\n",
    "            self.move_pawn(name, direction)"
   ]
  },
  {
   "cell_type": "code",
   "execution_count": 4,
   "metadata": {},
   "outputs": [],
   "source": [
    "class wall:\n",
    "    'Wall object with x, y and direction attributes.'\n",
    "    #Constructor\n",
    "    def __init__(self, x=0, y=0, direction=\"left\"):\n",
    "        self.x, self.y, self.direction=x, y, direction\n",
    "    \n",
    "    def __repr__(self):\n",
    "        return \"[\"+str(self.x)+\", \"+str(self.y)+\", \" + self.direction + \"]\""
   ]
  },
  {
   "cell_type": "code",
   "execution_count": 5,
   "metadata": {},
   "outputs": [],
   "source": [
    "class board_wall:\n",
    "    'Board that manages walls, wall placement and wall representation.'\n",
    "    #Constructor\n",
    "    def __init__(self):\n",
    "        self.wall_list={}\n",
    "\n",
    "    #Agrega wall al diccionario\n",
    "    def add_wall(self, name, wall):\n",
    "        self.wall_list[name]=wall\n",
    "\n",
    "    def board(self):\n",
    "        board=[[0 for _ in range(10)] for _ in range(10)]\n",
    "        for_delete=[]\n",
    "        for i in self.wall_list:\n",
    "            a_wall=self.wall_list[i]\n",
    "            if a_wall.direction == \"left\" and a_wall.x >= 2 and a_wall.y >= 1 and a_wall.y <= 8:\n",
    "                board[a_wall.y][a_wall.x-1]+=2\n",
    "                board[a_wall.y][a_wall.x]+=2\n",
    "            elif a_wall.direction == \"up\" and a_wall.x <= 8 and a_wall.x >=1 and a_wall.y >= 2 and a_wall.y <= 9:\n",
    "                board[a_wall.y][a_wall.x]+=3\n",
    "                board[a_wall.y-1][a_wall.x]+=3\n",
    "                \n",
    "            else:\n",
    "                for_delete.append(i)\n",
    "                print(\"Invalid wall\")\n",
    "        for i in for_delete:\n",
    "            del self.wall_list[i]\n",
    "        return board\n",
    "\n",
    "    def restricted_moves(self):\n",
    "        invalid_moves=[]\n",
    "        for i in self.wall_list:\n",
    "            aux_wall=self.wall_list[i]\n",
    "            if aux_wall.direction==\"left\":\n",
    "                invalid_moves.extend([[[aux_wall.x-1, aux_wall.y],[aux_wall.x-1, aux_wall.y-1]],\n",
    "                                        [[aux_wall.x-1, aux_wall.y-1],[aux_wall.x-1, aux_wall.y]],\n",
    "                                        [[aux_wall.x-2, aux_wall.y],[aux_wall.x-2, aux_wall.y-1]],\n",
    "                                        [[aux_wall.x-2, aux_wall.y-1],[aux_wall.x-2, aux_wall.y]]])\n",
    "            elif aux_wall.direction==\"up\":\n",
    "                invalid_moves.extend([[[aux_wall.x, aux_wall.y-2], [aux_wall.x-1, aux_wall.y-2]],\n",
    "                                        [[aux_wall.x-1, aux_wall.y-2], [aux_wall.x, aux_wall.y-2]],\n",
    "                                        [[aux_wall.x, aux_wall.y-1], [aux_wall.x-1, aux_wall.y-1]],\n",
    "                                        [[aux_wall.x-1, aux_wall.y-1], [aux_wall.x, aux_wall.y-1]]])\n",
    "        return invalid_moves"
   ]
  },
  {
   "cell_type": "code",
   "execution_count": 6,
   "metadata": {},
   "outputs": [],
   "source": [
    "def drawBoard(board_pawn, board_wall):\n",
    "    n = len(board_pawn)\n",
    "    tablero = np.zeros((n ,n, 3)) # Matriz de ceros. Doble paréntesis porque es inmutable (dupla)\n",
    "    tablero += 0.8 # Degradado de color\n",
    "    tablero[ ::2,  ::2] =1\n",
    "    tablero[1::2, 1::2] =1 #Crea rejilla con 0.8 y 1 intercaladamente\n",
    "    fig, ax = plt.subplots() #Subplots: funcion similar a buffer pero para gráficos estdísticos\n",
    "    ax.imshow(tablero, interpolation='nearest')\n",
    "    \n",
    "    #g[posicion][valor]\n",
    "    #g[fila][columna]=valor\n",
    "    for y in range(len(board_pawn)):\n",
    "        for x in range(len(board_pawn[y])):\n",
    "            if board_pawn[y][x]==0:\n",
    "                continue\n",
    "            ax.text(x, y, u'\\u2655', size=30, ha='center', va='center')\n",
    "    for y in range(len(board_wall)):\n",
    "        for x in range(len(board_wall[y])):\n",
    "            wall_type=board_wall[y][x]\n",
    "            if wall_type==0:\n",
    "                continue\n",
    "            if wall_type==2 or wall_type==5:\n",
    "                ax.text(x-1, y-.5, '\\u2015', size=43, ha='center', va='center')\n",
    "            if wall_type==3 or wall_type==5:\n",
    "                ax.text(x-.5, y-1, '\\u2015', size=43, rotation=90, ha='center', va='center')\n",
    "    ax.set(xticks=[], yticks=[]) #no mostrar líneas de separación cartesianas\n",
    "    ax.axis('image')\n",
    "    plt.show()"
   ]
  },
  {
   "cell_type": "code",
   "execution_count": 7,
   "metadata": {
    "tags": []
   },
   "outputs": [
    {
     "output_type": "stream",
     "name": "stdout",
     "text": "[0, 0, 0, 0, 0, 0, 0, 0, 0, 0]\n[0, 0, 0, 0, 0, 0, 0, 0, 0, 0]\n[0, 0, 0, 0, 5, 2, 0, 0, 0, 0]\n[0, 0, 0, 0, 3, 0, 0, 0, 0, 0]\n[0, 0, 0, 0, 0, 0, 0, 0, 0, 0]\n[0, 0, 0, 0, 0, 0, 0, 0, 0, 0]\n[0, 0, 0, 0, 0, 0, 0, 0, 0, 0]\n[0, 0, 0, 0, 0, 0, 0, 0, 0, 0]\n[0, 0, 0, 0, 0, 0, 0, 0, 0, 0]\n[0, 0, 0, 0, 0, 0, 0, 0, 0, 0]\n"
    },
    {
     "output_type": "display_data",
     "data": {
      "text/plain": "<Figure size 432x288 with 1 Axes>",
      "image/svg+xml": "<?xml version=\"1.0\" encoding=\"utf-8\" standalone=\"no\"?>\r\n<!DOCTYPE svg PUBLIC \"-//W3C//DTD SVG 1.1//EN\"\r\n  \"http://www.w3.org/Graphics/SVG/1.1/DTD/svg11.dtd\">\r\n<!-- Created with matplotlib (https://matplotlib.org/) -->\r\n<svg height=\"235.34pt\" version=\"1.1\" viewBox=\"0 0 235.34 235.34\" width=\"235.34pt\" xmlns=\"http://www.w3.org/2000/svg\" xmlns:xlink=\"http://www.w3.org/1999/xlink\">\r\n <metadata>\r\n  <rdf:RDF xmlns:cc=\"http://creativecommons.org/ns#\" xmlns:dc=\"http://purl.org/dc/elements/1.1/\" xmlns:rdf=\"http://www.w3.org/1999/02/22-rdf-syntax-ns#\">\r\n   <cc:Work>\r\n    <dc:type rdf:resource=\"http://purl.org/dc/dcmitype/StillImage\"/>\r\n    <dc:date>2020-09-15T11:31:47.621783</dc:date>\r\n    <dc:format>image/svg+xml</dc:format>\r\n    <dc:creator>\r\n     <cc:Agent>\r\n      <dc:title>Matplotlib v3.3.1, https://matplotlib.org/</dc:title>\r\n     </cc:Agent>\r\n    </dc:creator>\r\n   </cc:Work>\r\n  </rdf:RDF>\r\n </metadata>\r\n <defs>\r\n  <style type=\"text/css\">*{stroke-linecap:butt;stroke-linejoin:round;}</style>\r\n </defs>\r\n <g id=\"figure_1\">\r\n  <g id=\"patch_1\">\r\n   <path d=\"M 0 235.34 \r\nL 235.34 235.34 \r\nL 235.34 0 \r\nL 0 0 \r\nz\r\n\" style=\"fill:none;\"/>\r\n  </g>\r\n  <g id=\"axes_1\">\r\n   <g id=\"patch_2\">\r\n    <path d=\"M 10.7 224.64 \r\nL 228.14 224.64 \r\nL 228.14 7.2 \r\nL 10.7 7.2 \r\nz\r\n\" style=\"fill:#ffffff;\"/>\r\n   </g>\r\n   <g clip-path=\"url(#p22c6e12f73)\">\r\n    <image height=\"218\" id=\"image22aeb9240e\" transform=\"scale(1 -1)translate(0 -218)\" width=\"218\" x=\"10.7\" xlink:href=\"data:image/png;base64,\r\niVBORw0KGgoAAAANSUhEUgAAANoAAADaCAYAAADAHVzbAAADCUlEQVR4nO3cwY0kQQgAQeY0Ho3/JqxNnBWVElKEAd3wSNWPz+7uPPT39/fy8/P7/Z5+f+b+Dtfnn7m/w7+nXwdmRmiQEBoEhAYBoUFAaBAQGgSEBgGhQUBoEBAaBIQGAaFBQGgQEBoEhAYBoUFAaBAQGgSEBgGhQUBoEBAaBL7X7+W9nn/m/g7X55+5v4MXDQJCg4DQICA0CAgNAkKDgNAgIDQICA0CQoOA0CAgNAgIDQJCg4DQICA0CAgNAkKDgNAgIDQICA0CQoOA0CDw2d19+YPrNwtn7u9wff6Z+zt40SAgNAgIDQJCg4DQICA0CAgNAkKDgNAgIDQICA0CQoOA0CAgNAgIDQJCg4DQICA0CAgNAkKDgNAgIDQICA0CQoPA9/phytfzz9zf4fr8M/d38KJBQGgQEBoEhAYBoUFAaBAQGgSEBgGhQUBoEBAaBIQGAaFBQGgQEBoEhAYBoUFAaBAQGgSEBgGhQUBoEBAaBD67uy9/cP1m4cz9Ha7PP3N/By8aBIQGAaFBQGgQEBoEhAYBoUFAaBAQGgSEBgGhQUBoEBAaBIQGAaFBQGgQEBoEhAYBoUFAaBAQGgSEBgGhQeB7/V7e6/ln7u9wff6Z+zt40SAgNAgIDQJCg4DQICA0CAgNAkKDgNAgIDQICA0CQoOA0CAgNAgIDQJCg4DQICA0CAgNAkKDgNAgIDQICA0Cn93dlz+4frNw5v4O1+efub+DFw0CQoOA0CAgNAgIDQJCg4DQICA0CAgNAkKDgNAgIDQICA0CQoOA0CAgNAgIDQJCg4DQICA0CAgNAkKDgNAgIDQIfK8fpnw9/8z9Ha7PP3N/By8aBIQGAaFBQGgQEBoEhAYBoUFAaBAQGgSEBgGhQUBoEBAaBIQGAaFBQGgQEBoEhAYBoUFAaBAQGgSEBgGhQeCzu/vyB9dvFs7c3+H6/DP3d/CiQUBoEBAaBIQGAaFBQGgQEBoEhAYBoUFAaBAQGgSEBgGhQUBoEBAaBIQGAaFBQGgQEBoEhAYBoUFAaBAQGgT+A/v0i0AJzbWBAAAAAElFTkSuQmCC\" y=\"-6.64\"/>\r\n   </g>\r\n   <g id=\"matplotlib.axis_1\"/>\r\n   <g id=\"matplotlib.axis_2\"/>\r\n   <g id=\"patch_3\">\r\n    <path d=\"M 10.7 224.64 \r\nL 10.7 7.2 \r\n\" style=\"fill:none;stroke:#000000;stroke-linecap:square;stroke-linejoin:miter;stroke-width:0.8;\"/>\r\n   </g>\r\n   <g id=\"patch_4\">\r\n    <path d=\"M 228.14 224.64 \r\nL 228.14 7.2 \r\n\" style=\"fill:none;stroke:#000000;stroke-linecap:square;stroke-linejoin:miter;stroke-width:0.8;\"/>\r\n   </g>\r\n   <g id=\"patch_5\">\r\n    <path d=\"M 10.7 224.64 \r\nL 228.14 224.64 \r\n\" style=\"fill:none;stroke:#000000;stroke-linecap:square;stroke-linejoin:miter;stroke-width:0.8;\"/>\r\n   </g>\r\n   <g id=\"patch_6\">\r\n    <path d=\"M 10.7 7.2 \r\nL 228.14 7.2 \r\n\" style=\"fill:none;stroke:#000000;stroke-linecap:square;stroke-linejoin:miter;stroke-width:0.8;\"/>\r\n   </g>\r\n   <g id=\"text_1\">\r\n    <!-- ♕ -->\r\n    <g transform=\"translate(105.971563 51.718125)scale(0.3 -0.3)\">\r\n     <defs>\r\n      <path d=\"M 16.265625 49.75 \r\nQ 11.625 49.859375 11.03125 54.5 \r\nQ 11.03125 55.859375 11.734375 57.09375 \r\nQ 12.453125 58.34375 13.765625 59.03125 \r\nQ 15.09375 59.71875 16.5 59.71875 \r\nQ 17.875 59.71875 19.1875 59.03125 \r\nQ 20.515625 58.34375 21.1875 57.09375 \r\nQ 21.875 55.859375 21.875 54.5 \r\nQ 21.6875 51.375 18.890625 50.296875 \r\nL 30.5625 25.59375 \r\nL 28.03125 59.859375 \r\nQ 23.96875 59.859375 23.09375 64.40625 \r\nQ 23.09375 65.765625 23.796875 66.984375 \r\nQ 24.515625 68.21875 25.796875 68.890625 \r\nQ 27.09375 69.578125 28.609375 69.578125 \r\nQ 29.984375 69.578125 31.265625 68.890625 \r\nQ 32.5625 68.21875 33.265625 66.984375 \r\nQ 33.984375 65.765625 33.984375 64.40625 \r\nQ 33.890625 62.203125 31.640625 60.546875 \r\nL 40.875 24.03125 \r\nL 42.96875 64.0625 \r\nQ 39.703125 65.53125 39.59375 67.875 \r\nQ 39.59375 69.234375 40.328125 70.5 \r\nQ 41.0625 71.78125 42.359375 72.40625 \r\nQ 43.65625 73.046875 44.96875 73.046875 \r\nQ 46.390625 73.046875 47.671875 72.40625 \r\nQ 48.96875 71.78125 49.703125 70.5 \r\nQ 50.4375 69.234375 50.4375 67.875 \r\nQ 50.296875 65.234375 47.015625 64.0625 \r\nL 48.875 23.921875 \r\nL 57.90625 60.0625 \r\nQ 55.671875 62.359375 55.671875 64.40625 \r\nQ 55.671875 65.71875 56.375 66.96875 \r\nQ 57.078125 68.21875 58.390625 68.890625 \r\nQ 59.71875 69.578125 61.03125 69.578125 \r\nQ 62.5 69.578125 63.8125 68.890625 \r\nQ 65.140625 68.21875 65.84375 66.96875 \r\nQ 66.546875 65.71875 66.546875 64.40625 \r\nQ 66.015625 60.25 61.8125 59.46875 \r\nL 57.328125 25.59375 \r\nL 69.875 50.734375 \r\nQ 67.78125 52.390625 67.78125 54.5 \r\nQ 67.78125 55.859375 68.484375 57.09375 \r\nQ 69.1875 58.34375 70.484375 59 \r\nQ 71.78125 59.671875 73.140625 59.671875 \r\nQ 74.609375 59.671875 75.90625 59 \r\nQ 77.203125 58.34375 77.90625 57.09375 \r\nQ 78.609375 55.859375 78.609375 54.5 \r\nQ 77.984375 49.90625 73.140625 49.90625 \r\nL 65.328125 27.296875 \r\nL 65.328125 0 \r\nL 23.296875 0 \r\nL 23.296875 27.296875 \r\nz\r\nM 62.546875 13.1875 \r\nL 62.546875 24.171875 \r\nL 53.71875 20.515625 \r\nL 35.984375 20.515625 \r\nL 27.046875 23.484375 \r\nL 27.046875 13.1875 \r\nz\r\nM 27.046875 10.84375 \r\nL 27.046875 2.828125 \r\nL 62.546875 2.828125 \r\nL 62.546875 10.84375 \r\nz\r\nM 25 27.4375 \r\nL 28.765625 25.390625 \r\nL 17.484375 51.078125 \r\nQ 17.828125 51.21875 18.171875 51.421875 \r\nQ 19.046875 51.90625 19.53125 52.75 \r\nQ 20.015625 53.609375 20.015625 54.546875 \r\nQ 20.015625 55.515625 19.53125 56.375 \r\nQ 19.046875 57.234375 18.1875 57.71875 \r\nQ 17.328125 58.203125 16.359375 58.203125 \r\nQ 15.484375 58.203125 14.625 57.71875 \r\nQ 13.765625 57.234375 13.25 56.375 \r\nQ 12.75 55.515625 12.75 54.546875 \r\nQ 12.75 53.609375 13.234375 52.75 \r\nQ 13.71875 51.90625 14.59375 51.40625 \r\nQ 15.484375 50.921875 16.359375 50.921875 \r\nQ 16.703125 50.921875 17.140625 50.984375 \r\nz\r\nM 32.28125 25.59375 \r\nL 38.921875 24.03125 \r\nL 29.78125 61.1875 \r\nQ 30.078125 61.28125 30.328125 61.421875 \r\nQ 31.15625 61.921875 31.609375 62.765625 \r\nQ 32.078125 63.625 32.078125 64.546875 \r\nQ 32.078125 65.484375 31.609375 66.359375 \r\nQ 31.15625 67.234375 30.265625 67.703125 \r\nQ 29.390625 68.171875 28.515625 68.171875 \r\nQ 27.59375 68.171875 26.734375 67.703125 \r\nQ 25.875 67.234375 25.390625 66.359375 \r\nQ 24.90625 65.484375 24.90625 64.546875 \r\nQ 24.90625 63.625 25.359375 62.765625 \r\nQ 25.828125 61.921875 26.703125 61.421875 \r\nQ 27.59375 60.9375 28.515625 60.9375 \r\nQ 28.859375 60.9375 29.25 60.984375 \r\nz\r\nM 50.203125 24.421875 \r\nL 55.8125 25.734375 \r\nL 60.5 60.9375 \r\nQ 60.75 60.890625 60.984375 60.890625 \r\nQ 61.921875 60.890625 62.8125 61.375 \r\nQ 63.71875 61.859375 64.1875 62.71875 \r\nQ 64.65625 63.578125 64.65625 64.5 \r\nQ 64.65625 65.4375 64.140625 66.3125 \r\nQ 63.625 67.1875 62.765625 67.640625 \r\nQ 61.921875 68.109375 60.984375 68.109375 \r\nQ 60.109375 68.109375 59.21875 67.640625 \r\nQ 58.34375 67.1875 57.859375 66.3125 \r\nQ 57.375 65.4375 57.375 64.5 \r\nQ 57.375 63.578125 57.859375 62.71875 \r\nQ 58.34375 61.859375 59.234375 61.375 \r\nQ 59.625 61.140625 59.96875 61.03125 \r\nz\r\nM 42.484375 24.03125 \r\nL 47.359375 24.03125 \r\nL 45.015625 64.75 \r\nQ 45.953125 64.75 46.734375 65.234375 \r\nQ 47.5625 65.71875 48.0625 66.578125 \r\nQ 48.578125 67.4375 48.578125 68.40625 \r\nQ 48.578125 69.34375 48.046875 70.1875 \r\nQ 47.515625 71.046875 46.671875 71.53125 \r\nQ 45.84375 72.015625 44.921875 72.015625 \r\nQ 44.046875 72.015625 43.140625 71.53125 \r\nQ 42.234375 71.046875 41.765625 70.1875 \r\nQ 41.3125 69.34375 41.3125 68.40625 \r\nQ 41.3125 67.4375 41.765625 66.578125 \r\nQ 42.234375 65.71875 43.171875 65.234375 \r\nQ 43.84375 64.84375 44.578125 64.75 \r\nz\r\nM 59.078125 25.390625 \r\nL 64.15625 27.4375 \r\nL 72.265625 51.375 \r\nQ 72.796875 51.21875 73.34375 51.21875 \r\nQ 74.265625 51.21875 75.125 51.734375 \r\nQ 75.984375 52.25 76.46875 53.078125 \r\nQ 76.953125 53.90625 76.953125 54.890625 \r\nQ 76.953125 55.8125 76.4375 56.6875 \r\nQ 75.921875 57.5625 75.09375 58.03125 \r\nQ 74.265625 58.5 73.34375 58.5 \r\nQ 72.359375 58.5 71.5 58.03125 \r\nQ 70.65625 57.5625 70.1875 56.6875 \r\nQ 69.734375 55.8125 69.734375 54.890625 \r\nQ 69.734375 53.90625 70.1875 53.078125 \r\nQ 70.65625 52.25 71.53125 51.703125 \r\nQ 71.734375 51.609375 71.875 51.515625 \r\nz\r\n\" id=\"DejaVuSans-9813\"/>\r\n     </defs>\r\n     <use xlink:href=\"#DejaVuSans-9813\"/>\r\n    </g>\r\n   </g>\r\n   <g id=\"text_2\">\r\n    <!-- ♕ -->\r\n    <g transform=\"translate(105.971563 172.518125)scale(0.3 -0.3)\">\r\n     <use xlink:href=\"#DejaVuSans-9813\"/>\r\n    </g>\r\n   </g>\r\n   <g id=\"text_3\">\r\n    <!-- ― -->\r\n    <g transform=\"translate(73.76 67.385312)scale(0.43 -0.43)\">\r\n     <defs>\r\n      <path d=\"M 0 30.90625 \r\nL 100 30.90625 \r\nL 100 23.875 \r\nL 0 23.875 \r\nz\r\n\" id=\"DejaVuSans-8213\"/>\r\n     </defs>\r\n     <use xlink:href=\"#DejaVuSans-8213\"/>\r\n    </g>\r\n   </g>\r\n   <g id=\"text_4\">\r\n    <!-- ― -->\r\n    <g transform=\"translate(119.205313 64.94)rotate(-90)scale(0.43 -0.43)\">\r\n     <use xlink:href=\"#DejaVuSans-8213\"/>\r\n    </g>\r\n   </g>\r\n   <g id=\"text_5\">\r\n    <!-- ― -->\r\n    <g transform=\"translate(97.92 67.385312)scale(0.43 -0.43)\">\r\n     <use xlink:href=\"#DejaVuSans-8213\"/>\r\n    </g>\r\n   </g>\r\n   <g id=\"text_6\">\r\n    <!-- ― -->\r\n    <g transform=\"translate(119.205313 89.1)rotate(-90)scale(0.43 -0.43)\">\r\n     <use xlink:href=\"#DejaVuSans-8213\"/>\r\n    </g>\r\n   </g>\r\n  </g>\r\n </g>\r\n <defs>\r\n  <clipPath id=\"p22c6e12f73\">\r\n   <rect height=\"217.44\" width=\"217.44\" x=\"10.7\" y=\"7.2\"/>\r\n  </clipPath>\r\n </defs>\r\n</svg>\r\n",
      "image/png": "[encoded data removed]"
     },
     "metadata": {}
    }
   ],
   "source": [
    "b1=pawnController()\n",
    "b1.add_pawn(\"p1\", pawn(4, 1))\n",
    "b1.add_pawn(\"p2\", pawn(4, 6))\n",
    "\n",
    "b1.board_wall.add_wall(\"w2\", wall(5, 2, \"left\"))\n",
    "b1.board_wall.add_wall(\"w1\", wall(4, 3, \"up\"))\n",
    "\n",
    "\n",
    "ya=b1.board_wall.board()\n",
    "for i in ya:\n",
    "    print(i)\n",
    "\n",
    "#print(b1.board_wall.restricted_moves())\n",
    "b1.move_pawn(\"p1\", \"down\")\n",
    "drawBoard(b1.board(), b1.board_wall.board())"
   ]
  },
  {
   "cell_type": "code",
   "execution_count": 8,
   "metadata": {
    "tags": []
   },
   "outputs": [
    {
     "output_type": "stream",
     "name": "stdout",
     "text": "{'p1': [4, 5], 'p2': [4, 6]}\n[[0, 0, 0, 0, 0, 0, 0, 0, 0], [0, 0, 0, 0, 0, 0, 0, 0, 0], [0, 0, 0, 0, 0, 0, 0, 0, 0], [0, 0, 0, 0, 0, 0, 0, 0, 0], [0, 0, 0, 0, 0, 0, 0, 0, 0], [0, 0, 0, 0, 1, 0, 0, 0, 0], [0, 0, 0, 0, 1, 0, 0, 0, 0], [0, 0, 0, 0, 0, 0, 0, 0, 0], [0, 0, 0, 0, 0, 0, 0, 0, 0]]\n"
    },
    {
     "output_type": "display_data",
     "data": {
      "text/plain": "<Figure size 432x288 with 1 Axes>",
      "image/svg+xml": "<?xml version=\"1.0\" encoding=\"utf-8\" standalone=\"no\"?>\r\n<!DOCTYPE svg PUBLIC \"-//W3C//DTD SVG 1.1//EN\"\r\n  \"http://www.w3.org/Graphics/SVG/1.1/DTD/svg11.dtd\">\r\n<!-- Created with matplotlib (https://matplotlib.org/) -->\r\n<svg height=\"235.34pt\" version=\"1.1\" viewBox=\"0 0 235.34 235.34\" width=\"235.34pt\" xmlns=\"http://www.w3.org/2000/svg\" xmlns:xlink=\"http://www.w3.org/1999/xlink\">\r\n <metadata>\r\n  <rdf:RDF xmlns:cc=\"http://creativecommons.org/ns#\" xmlns:dc=\"http://purl.org/dc/elements/1.1/\" xmlns:rdf=\"http://www.w3.org/1999/02/22-rdf-syntax-ns#\">\r\n   <cc:Work>\r\n    <dc:type rdf:resource=\"http://purl.org/dc/dcmitype/StillImage\"/>\r\n    <dc:date>2020-09-15T11:31:58.005256</dc:date>\r\n    <dc:format>image/svg+xml</dc:format>\r\n    <dc:creator>\r\n     <cc:Agent>\r\n      <dc:title>Matplotlib v3.3.1, https://matplotlib.org/</dc:title>\r\n     </cc:Agent>\r\n    </dc:creator>\r\n   </cc:Work>\r\n  </rdf:RDF>\r\n </metadata>\r\n <defs>\r\n  <style type=\"text/css\">*{stroke-linecap:butt;stroke-linejoin:round;}</style>\r\n </defs>\r\n <g id=\"figure_1\">\r\n  <g id=\"patch_1\">\r\n   <path d=\"M 0 235.34 \r\nL 235.34 235.34 \r\nL 235.34 0 \r\nL 0 0 \r\nz\r\n\" style=\"fill:none;\"/>\r\n  </g>\r\n  <g id=\"axes_1\">\r\n   <g id=\"patch_2\">\r\n    <path d=\"M 10.7 224.64 \r\nL 228.14 224.64 \r\nL 228.14 7.2 \r\nL 10.7 7.2 \r\nz\r\n\" style=\"fill:#ffffff;\"/>\r\n   </g>\r\n   <g clip-path=\"url(#p2547bc1dfe)\">\r\n    <image height=\"218\" id=\"imagef913ca645f\" transform=\"scale(1 -1)translate(0 -218)\" width=\"218\" x=\"10.7\" xlink:href=\"data:image/png;base64,\r\niVBORw0KGgoAAAANSUhEUgAAANoAAADaCAYAAADAHVzbAAADCUlEQVR4nO3cwY0kQQgAQeY0Ho3/JqxNnBWVElKEAd3wSNWPz+7uPPT39/fy8/P7/Z5+f+b+Dtfnn7m/w7+nXwdmRmiQEBoEhAYBoUFAaBAQGgSEBgGhQUBoEBAaBIQGAaFBQGgQEBoEhAYBoUFAaBAQGgSEBgGhQUBoEBAaBL7X7+W9nn/m/g7X55+5v4MXDQJCg4DQICA0CAgNAkKDgNAgIDQICA0CQoOA0CAgNAgIDQJCg4DQICA0CAgNAkKDgNAgIDQICA0CQoOA0CDw2d19+YPrNwtn7u9wff6Z+zt40SAgNAgIDQJCg4DQICA0CAgNAkKDgNAgIDQICA0CQoOA0CAgNAgIDQJCg4DQICA0CAgNAkKDgNAgIDQICA0CQoPA9/phytfzz9zf4fr8M/d38KJBQGgQEBoEhAYBoUFAaBAQGgSEBgGhQUBoEBAaBIQGAaFBQGgQEBoEhAYBoUFAaBAQGgSEBgGhQUBoEBAaBD67uy9/cP1m4cz9Ha7PP3N/By8aBIQGAaFBQGgQEBoEhAYBoUFAaBAQGgSEBgGhQUBoEBAaBIQGAaFBQGgQEBoEhAYBoUFAaBAQGgSEBgGhQeB7/V7e6/ln7u9wff6Z+zt40SAgNAgIDQJCg4DQICA0CAgNAkKDgNAgIDQICA0CQoOA0CAgNAgIDQJCg4DQICA0CAgNAkKDgNAgIDQICA0Cn93dlz+4frNw5v4O1+efub+DFw0CQoOA0CAgNAgIDQJCg4DQICA0CAgNAkKDgNAgIDQICA0CQoOA0CAgNAgIDQJCg4DQICA0CAgNAkKDgNAgIDQIfK8fpnw9/8z9Ha7PP3N/By8aBIQGAaFBQGgQEBoEhAYBoUFAaBAQGgSEBgGhQUBoEBAaBIQGAaFBQGgQEBoEhAYBoUFAaBAQGgSEBgGhQeCzu/vyB9dvFs7c3+H6/DP3d/CiQUBoEBAaBIQGAaFBQGgQEBoEhAYBoUFAaBAQGgSEBgGhQUBoEBAaBIQGAaFBQGgQEBoEhAYBoUFAaBAQGgT+A/v0i0AJzbWBAAAAAElFTkSuQmCC\" y=\"-6.64\"/>\r\n   </g>\r\n   <g id=\"matplotlib.axis_1\"/>\r\n   <g id=\"matplotlib.axis_2\"/>\r\n   <g id=\"patch_3\">\r\n    <path d=\"M 10.7 224.64 \r\nL 10.7 7.2 \r\n\" style=\"fill:none;stroke:#000000;stroke-linecap:square;stroke-linejoin:miter;stroke-width:0.8;\"/>\r\n   </g>\r\n   <g id=\"patch_4\">\r\n    <path d=\"M 228.14 224.64 \r\nL 228.14 7.2 \r\n\" style=\"fill:none;stroke:#000000;stroke-linecap:square;stroke-linejoin:miter;stroke-width:0.8;\"/>\r\n   </g>\r\n   <g id=\"patch_5\">\r\n    <path d=\"M 10.7 224.64 \r\nL 228.14 224.64 \r\n\" style=\"fill:none;stroke:#000000;stroke-linecap:square;stroke-linejoin:miter;stroke-width:0.8;\"/>\r\n   </g>\r\n   <g id=\"patch_6\">\r\n    <path d=\"M 10.7 7.2 \r\nL 228.14 7.2 \r\n\" style=\"fill:none;stroke:#000000;stroke-linecap:square;stroke-linejoin:miter;stroke-width:0.8;\"/>\r\n   </g>\r\n   <g id=\"text_1\">\r\n    <!-- ♕ -->\r\n    <g transform=\"translate(105.971563 148.358125)scale(0.3 -0.3)\">\r\n     <defs>\r\n      <path d=\"M 16.265625 49.75 \r\nQ 11.625 49.859375 11.03125 54.5 \r\nQ 11.03125 55.859375 11.734375 57.09375 \r\nQ 12.453125 58.34375 13.765625 59.03125 \r\nQ 15.09375 59.71875 16.5 59.71875 \r\nQ 17.875 59.71875 19.1875 59.03125 \r\nQ 20.515625 58.34375 21.1875 57.09375 \r\nQ 21.875 55.859375 21.875 54.5 \r\nQ 21.6875 51.375 18.890625 50.296875 \r\nL 30.5625 25.59375 \r\nL 28.03125 59.859375 \r\nQ 23.96875 59.859375 23.09375 64.40625 \r\nQ 23.09375 65.765625 23.796875 66.984375 \r\nQ 24.515625 68.21875 25.796875 68.890625 \r\nQ 27.09375 69.578125 28.609375 69.578125 \r\nQ 29.984375 69.578125 31.265625 68.890625 \r\nQ 32.5625 68.21875 33.265625 66.984375 \r\nQ 33.984375 65.765625 33.984375 64.40625 \r\nQ 33.890625 62.203125 31.640625 60.546875 \r\nL 40.875 24.03125 \r\nL 42.96875 64.0625 \r\nQ 39.703125 65.53125 39.59375 67.875 \r\nQ 39.59375 69.234375 40.328125 70.5 \r\nQ 41.0625 71.78125 42.359375 72.40625 \r\nQ 43.65625 73.046875 44.96875 73.046875 \r\nQ 46.390625 73.046875 47.671875 72.40625 \r\nQ 48.96875 71.78125 49.703125 70.5 \r\nQ 50.4375 69.234375 50.4375 67.875 \r\nQ 50.296875 65.234375 47.015625 64.0625 \r\nL 48.875 23.921875 \r\nL 57.90625 60.0625 \r\nQ 55.671875 62.359375 55.671875 64.40625 \r\nQ 55.671875 65.71875 56.375 66.96875 \r\nQ 57.078125 68.21875 58.390625 68.890625 \r\nQ 59.71875 69.578125 61.03125 69.578125 \r\nQ 62.5 69.578125 63.8125 68.890625 \r\nQ 65.140625 68.21875 65.84375 66.96875 \r\nQ 66.546875 65.71875 66.546875 64.40625 \r\nQ 66.015625 60.25 61.8125 59.46875 \r\nL 57.328125 25.59375 \r\nL 69.875 50.734375 \r\nQ 67.78125 52.390625 67.78125 54.5 \r\nQ 67.78125 55.859375 68.484375 57.09375 \r\nQ 69.1875 58.34375 70.484375 59 \r\nQ 71.78125 59.671875 73.140625 59.671875 \r\nQ 74.609375 59.671875 75.90625 59 \r\nQ 77.203125 58.34375 77.90625 57.09375 \r\nQ 78.609375 55.859375 78.609375 54.5 \r\nQ 77.984375 49.90625 73.140625 49.90625 \r\nL 65.328125 27.296875 \r\nL 65.328125 0 \r\nL 23.296875 0 \r\nL 23.296875 27.296875 \r\nz\r\nM 62.546875 13.1875 \r\nL 62.546875 24.171875 \r\nL 53.71875 20.515625 \r\nL 35.984375 20.515625 \r\nL 27.046875 23.484375 \r\nL 27.046875 13.1875 \r\nz\r\nM 27.046875 10.84375 \r\nL 27.046875 2.828125 \r\nL 62.546875 2.828125 \r\nL 62.546875 10.84375 \r\nz\r\nM 25 27.4375 \r\nL 28.765625 25.390625 \r\nL 17.484375 51.078125 \r\nQ 17.828125 51.21875 18.171875 51.421875 \r\nQ 19.046875 51.90625 19.53125 52.75 \r\nQ 20.015625 53.609375 20.015625 54.546875 \r\nQ 20.015625 55.515625 19.53125 56.375 \r\nQ 19.046875 57.234375 18.1875 57.71875 \r\nQ 17.328125 58.203125 16.359375 58.203125 \r\nQ 15.484375 58.203125 14.625 57.71875 \r\nQ 13.765625 57.234375 13.25 56.375 \r\nQ 12.75 55.515625 12.75 54.546875 \r\nQ 12.75 53.609375 13.234375 52.75 \r\nQ 13.71875 51.90625 14.59375 51.40625 \r\nQ 15.484375 50.921875 16.359375 50.921875 \r\nQ 16.703125 50.921875 17.140625 50.984375 \r\nz\r\nM 32.28125 25.59375 \r\nL 38.921875 24.03125 \r\nL 29.78125 61.1875 \r\nQ 30.078125 61.28125 30.328125 61.421875 \r\nQ 31.15625 61.921875 31.609375 62.765625 \r\nQ 32.078125 63.625 32.078125 64.546875 \r\nQ 32.078125 65.484375 31.609375 66.359375 \r\nQ 31.15625 67.234375 30.265625 67.703125 \r\nQ 29.390625 68.171875 28.515625 68.171875 \r\nQ 27.59375 68.171875 26.734375 67.703125 \r\nQ 25.875 67.234375 25.390625 66.359375 \r\nQ 24.90625 65.484375 24.90625 64.546875 \r\nQ 24.90625 63.625 25.359375 62.765625 \r\nQ 25.828125 61.921875 26.703125 61.421875 \r\nQ 27.59375 60.9375 28.515625 60.9375 \r\nQ 28.859375 60.9375 29.25 60.984375 \r\nz\r\nM 50.203125 24.421875 \r\nL 55.8125 25.734375 \r\nL 60.5 60.9375 \r\nQ 60.75 60.890625 60.984375 60.890625 \r\nQ 61.921875 60.890625 62.8125 61.375 \r\nQ 63.71875 61.859375 64.1875 62.71875 \r\nQ 64.65625 63.578125 64.65625 64.5 \r\nQ 64.65625 65.4375 64.140625 66.3125 \r\nQ 63.625 67.1875 62.765625 67.640625 \r\nQ 61.921875 68.109375 60.984375 68.109375 \r\nQ 60.109375 68.109375 59.21875 67.640625 \r\nQ 58.34375 67.1875 57.859375 66.3125 \r\nQ 57.375 65.4375 57.375 64.5 \r\nQ 57.375 63.578125 57.859375 62.71875 \r\nQ 58.34375 61.859375 59.234375 61.375 \r\nQ 59.625 61.140625 59.96875 61.03125 \r\nz\r\nM 42.484375 24.03125 \r\nL 47.359375 24.03125 \r\nL 45.015625 64.75 \r\nQ 45.953125 64.75 46.734375 65.234375 \r\nQ 47.5625 65.71875 48.0625 66.578125 \r\nQ 48.578125 67.4375 48.578125 68.40625 \r\nQ 48.578125 69.34375 48.046875 70.1875 \r\nQ 47.515625 71.046875 46.671875 71.53125 \r\nQ 45.84375 72.015625 44.921875 72.015625 \r\nQ 44.046875 72.015625 43.140625 71.53125 \r\nQ 42.234375 71.046875 41.765625 70.1875 \r\nQ 41.3125 69.34375 41.3125 68.40625 \r\nQ 41.3125 67.4375 41.765625 66.578125 \r\nQ 42.234375 65.71875 43.171875 65.234375 \r\nQ 43.84375 64.84375 44.578125 64.75 \r\nz\r\nM 59.078125 25.390625 \r\nL 64.15625 27.4375 \r\nL 72.265625 51.375 \r\nQ 72.796875 51.21875 73.34375 51.21875 \r\nQ 74.265625 51.21875 75.125 51.734375 \r\nQ 75.984375 52.25 76.46875 53.078125 \r\nQ 76.953125 53.90625 76.953125 54.890625 \r\nQ 76.953125 55.8125 76.4375 56.6875 \r\nQ 75.921875 57.5625 75.09375 58.03125 \r\nQ 74.265625 58.5 73.34375 58.5 \r\nQ 72.359375 58.5 71.5 58.03125 \r\nQ 70.65625 57.5625 70.1875 56.6875 \r\nQ 69.734375 55.8125 69.734375 54.890625 \r\nQ 69.734375 53.90625 70.1875 53.078125 \r\nQ 70.65625 52.25 71.53125 51.703125 \r\nQ 71.734375 51.609375 71.875 51.515625 \r\nz\r\n\" id=\"DejaVuSans-9813\"/>\r\n     </defs>\r\n     <use xlink:href=\"#DejaVuSans-9813\"/>\r\n    </g>\r\n   </g>\r\n   <g id=\"text_2\">\r\n    <!-- ♕ -->\r\n    <g transform=\"translate(105.971563 172.518125)scale(0.3 -0.3)\">\r\n     <use xlink:href=\"#DejaVuSans-9813\"/>\r\n    </g>\r\n   </g>\r\n  </g>\r\n </g>\r\n <defs>\r\n  <clipPath id=\"p2547bc1dfe\">\r\n   <rect height=\"217.44\" width=\"217.44\" x=\"10.7\" y=\"7.2\"/>\r\n  </clipPath>\r\n </defs>\r\n</svg>\r\n",
      "image/png": "[encoded data removed]"
     },
     "metadata": {}
    },
    {
     "output_type": "display_data",
     "data": {
      "text/plain": "<Figure size 432x288 with 1 Axes>",
      "image/svg+xml": "<?xml version=\"1.0\" encoding=\"utf-8\" standalone=\"no\"?>\r\n<!DOCTYPE svg PUBLIC \"-//W3C//DTD SVG 1.1//EN\"\r\n  \"http://www.w3.org/Graphics/SVG/1.1/DTD/svg11.dtd\">\r\n<!-- Created with matplotlib (https://matplotlib.org/) -->\r\n<svg height=\"235.34pt\" version=\"1.1\" viewBox=\"0 0 235.34 235.34\" width=\"235.34pt\" xmlns=\"http://www.w3.org/2000/svg\" xmlns:xlink=\"http://www.w3.org/1999/xlink\">\r\n <metadata>\r\n  <rdf:RDF xmlns:cc=\"http://creativecommons.org/ns#\" xmlns:dc=\"http://purl.org/dc/elements/1.1/\" xmlns:rdf=\"http://www.w3.org/1999/02/22-rdf-syntax-ns#\">\r\n   <cc:Work>\r\n    <dc:type rdf:resource=\"http://purl.org/dc/dcmitype/StillImage\"/>\r\n    <dc:date>2020-09-15T11:31:58.076066</dc:date>\r\n    <dc:format>image/svg+xml</dc:format>\r\n    <dc:creator>\r\n     <cc:Agent>\r\n      <dc:title>Matplotlib v3.3.1, https://matplotlib.org/</dc:title>\r\n     </cc:Agent>\r\n    </dc:creator>\r\n   </cc:Work>\r\n  </rdf:RDF>\r\n </metadata>\r\n <defs>\r\n  <style type=\"text/css\">*{stroke-linecap:butt;stroke-linejoin:round;}</style>\r\n </defs>\r\n <g id=\"figure_1\">\r\n  <g id=\"patch_1\">\r\n   <path d=\"M 0 235.34 \r\nL 235.34 235.34 \r\nL 235.34 0 \r\nL 0 0 \r\nz\r\n\" style=\"fill:none;\"/>\r\n  </g>\r\n  <g id=\"axes_1\">\r\n   <g id=\"patch_2\">\r\n    <path d=\"M 10.7 224.64 \r\nL 228.14 224.64 \r\nL 228.14 7.2 \r\nL 10.7 7.2 \r\nz\r\n\" style=\"fill:#ffffff;\"/>\r\n   </g>\r\n   <g clip-path=\"url(#p8ee77dc78b)\">\r\n    <image height=\"218\" id=\"image78dcb50c98\" transform=\"scale(1 -1)translate(0 -218)\" width=\"218\" x=\"10.7\" xlink:href=\"data:image/png;base64,\r\niVBORw0KGgoAAAANSUhEUgAAANoAAADaCAYAAADAHVzbAAADCUlEQVR4nO3cwY0kQQgAQeY0Ho3/JqxNnBWVElKEAd3wSNWPz+7uPPT39/fy8/P7/Z5+f+b+Dtfnn7m/w7+nXwdmRmiQEBoEhAYBoUFAaBAQGgSEBgGhQUBoEBAaBIQGAaFBQGgQEBoEhAYBoUFAaBAQGgSEBgGhQUBoEBAaBL7X7+W9nn/m/g7X55+5v4MXDQJCg4DQICA0CAgNAkKDgNAgIDQICA0CQoOA0CAgNAgIDQJCg4DQICA0CAgNAkKDgNAgIDQICA0CQoOA0CDw2d19+YPrNwtn7u9wff6Z+zt40SAgNAgIDQJCg4DQICA0CAgNAkKDgNAgIDQICA0CQoOA0CAgNAgIDQJCg4DQICA0CAgNAkKDgNAgIDQICA0CQoPA9/phytfzz9zf4fr8M/d38KJBQGgQEBoEhAYBoUFAaBAQGgSEBgGhQUBoEBAaBIQGAaFBQGgQEBoEhAYBoUFAaBAQGgSEBgGhQUBoEBAaBD67uy9/cP1m4cz9Ha7PP3N/By8aBIQGAaFBQGgQEBoEhAYBoUFAaBAQGgSEBgGhQUBoEBAaBIQGAaFBQGgQEBoEhAYBoUFAaBAQGgSEBgGhQeB7/V7e6/ln7u9wff6Z+zt40SAgNAgIDQJCg4DQICA0CAgNAkKDgNAgIDQICA0CQoOA0CAgNAgIDQJCg4DQICA0CAgNAkKDgNAgIDQICA0Cn93dlz+4frNw5v4O1+efub+DFw0CQoOA0CAgNAgIDQJCg4DQICA0CAgNAkKDgNAgIDQICA0CQoOA0CAgNAgIDQJCg4DQICA0CAgNAkKDgNAgIDQIfK8fpnw9/8z9Ha7PP3N/By8aBIQGAaFBQGgQEBoEhAYBoUFAaBAQGgSEBgGhQUBoEBAaBIQGAaFBQGgQEBoEhAYBoUFAaBAQGgSEBgGhQeCzu/vyB9dvFs7c3+H6/DP3d/CiQUBoEBAaBIQGAaFBQGgQEBoEhAYBoUFAaBAQGgSEBgGhQUBoEBAaBIQGAaFBQGgQEBoEhAYBoUFAaBAQGgT+A/v0i0AJzbWBAAAAAElFTkSuQmCC\" y=\"-6.64\"/>\r\n   </g>\r\n   <g id=\"matplotlib.axis_1\"/>\r\n   <g id=\"matplotlib.axis_2\"/>\r\n   <g id=\"patch_3\">\r\n    <path d=\"M 10.7 224.64 \r\nL 10.7 7.2 \r\n\" style=\"fill:none;stroke:#000000;stroke-linecap:square;stroke-linejoin:miter;stroke-width:0.8;\"/>\r\n   </g>\r\n   <g id=\"patch_4\">\r\n    <path d=\"M 228.14 224.64 \r\nL 228.14 7.2 \r\n\" style=\"fill:none;stroke:#000000;stroke-linecap:square;stroke-linejoin:miter;stroke-width:0.8;\"/>\r\n   </g>\r\n   <g id=\"patch_5\">\r\n    <path d=\"M 10.7 224.64 \r\nL 228.14 224.64 \r\n\" style=\"fill:none;stroke:#000000;stroke-linecap:square;stroke-linejoin:miter;stroke-width:0.8;\"/>\r\n   </g>\r\n   <g id=\"patch_6\">\r\n    <path d=\"M 10.7 7.2 \r\nL 228.14 7.2 \r\n\" style=\"fill:none;stroke:#000000;stroke-linecap:square;stroke-linejoin:miter;stroke-width:0.8;\"/>\r\n   </g>\r\n   <g id=\"text_1\">\r\n    <!-- ♕ -->\r\n    <g transform=\"translate(105.971563 148.358125)scale(0.3 -0.3)\">\r\n     <defs>\r\n      <path d=\"M 16.265625 49.75 \r\nQ 11.625 49.859375 11.03125 54.5 \r\nQ 11.03125 55.859375 11.734375 57.09375 \r\nQ 12.453125 58.34375 13.765625 59.03125 \r\nQ 15.09375 59.71875 16.5 59.71875 \r\nQ 17.875 59.71875 19.1875 59.03125 \r\nQ 20.515625 58.34375 21.1875 57.09375 \r\nQ 21.875 55.859375 21.875 54.5 \r\nQ 21.6875 51.375 18.890625 50.296875 \r\nL 30.5625 25.59375 \r\nL 28.03125 59.859375 \r\nQ 23.96875 59.859375 23.09375 64.40625 \r\nQ 23.09375 65.765625 23.796875 66.984375 \r\nQ 24.515625 68.21875 25.796875 68.890625 \r\nQ 27.09375 69.578125 28.609375 69.578125 \r\nQ 29.984375 69.578125 31.265625 68.890625 \r\nQ 32.5625 68.21875 33.265625 66.984375 \r\nQ 33.984375 65.765625 33.984375 64.40625 \r\nQ 33.890625 62.203125 31.640625 60.546875 \r\nL 40.875 24.03125 \r\nL 42.96875 64.0625 \r\nQ 39.703125 65.53125 39.59375 67.875 \r\nQ 39.59375 69.234375 40.328125 70.5 \r\nQ 41.0625 71.78125 42.359375 72.40625 \r\nQ 43.65625 73.046875 44.96875 73.046875 \r\nQ 46.390625 73.046875 47.671875 72.40625 \r\nQ 48.96875 71.78125 49.703125 70.5 \r\nQ 50.4375 69.234375 50.4375 67.875 \r\nQ 50.296875 65.234375 47.015625 64.0625 \r\nL 48.875 23.921875 \r\nL 57.90625 60.0625 \r\nQ 55.671875 62.359375 55.671875 64.40625 \r\nQ 55.671875 65.71875 56.375 66.96875 \r\nQ 57.078125 68.21875 58.390625 68.890625 \r\nQ 59.71875 69.578125 61.03125 69.578125 \r\nQ 62.5 69.578125 63.8125 68.890625 \r\nQ 65.140625 68.21875 65.84375 66.96875 \r\nQ 66.546875 65.71875 66.546875 64.40625 \r\nQ 66.015625 60.25 61.8125 59.46875 \r\nL 57.328125 25.59375 \r\nL 69.875 50.734375 \r\nQ 67.78125 52.390625 67.78125 54.5 \r\nQ 67.78125 55.859375 68.484375 57.09375 \r\nQ 69.1875 58.34375 70.484375 59 \r\nQ 71.78125 59.671875 73.140625 59.671875 \r\nQ 74.609375 59.671875 75.90625 59 \r\nQ 77.203125 58.34375 77.90625 57.09375 \r\nQ 78.609375 55.859375 78.609375 54.5 \r\nQ 77.984375 49.90625 73.140625 49.90625 \r\nL 65.328125 27.296875 \r\nL 65.328125 0 \r\nL 23.296875 0 \r\nL 23.296875 27.296875 \r\nz\r\nM 62.546875 13.1875 \r\nL 62.546875 24.171875 \r\nL 53.71875 20.515625 \r\nL 35.984375 20.515625 \r\nL 27.046875 23.484375 \r\nL 27.046875 13.1875 \r\nz\r\nM 27.046875 10.84375 \r\nL 27.046875 2.828125 \r\nL 62.546875 2.828125 \r\nL 62.546875 10.84375 \r\nz\r\nM 25 27.4375 \r\nL 28.765625 25.390625 \r\nL 17.484375 51.078125 \r\nQ 17.828125 51.21875 18.171875 51.421875 \r\nQ 19.046875 51.90625 19.53125 52.75 \r\nQ 20.015625 53.609375 20.015625 54.546875 \r\nQ 20.015625 55.515625 19.53125 56.375 \r\nQ 19.046875 57.234375 18.1875 57.71875 \r\nQ 17.328125 58.203125 16.359375 58.203125 \r\nQ 15.484375 58.203125 14.625 57.71875 \r\nQ 13.765625 57.234375 13.25 56.375 \r\nQ 12.75 55.515625 12.75 54.546875 \r\nQ 12.75 53.609375 13.234375 52.75 \r\nQ 13.71875 51.90625 14.59375 51.40625 \r\nQ 15.484375 50.921875 16.359375 50.921875 \r\nQ 16.703125 50.921875 17.140625 50.984375 \r\nz\r\nM 32.28125 25.59375 \r\nL 38.921875 24.03125 \r\nL 29.78125 61.1875 \r\nQ 30.078125 61.28125 30.328125 61.421875 \r\nQ 31.15625 61.921875 31.609375 62.765625 \r\nQ 32.078125 63.625 32.078125 64.546875 \r\nQ 32.078125 65.484375 31.609375 66.359375 \r\nQ 31.15625 67.234375 30.265625 67.703125 \r\nQ 29.390625 68.171875 28.515625 68.171875 \r\nQ 27.59375 68.171875 26.734375 67.703125 \r\nQ 25.875 67.234375 25.390625 66.359375 \r\nQ 24.90625 65.484375 24.90625 64.546875 \r\nQ 24.90625 63.625 25.359375 62.765625 \r\nQ 25.828125 61.921875 26.703125 61.421875 \r\nQ 27.59375 60.9375 28.515625 60.9375 \r\nQ 28.859375 60.9375 29.25 60.984375 \r\nz\r\nM 50.203125 24.421875 \r\nL 55.8125 25.734375 \r\nL 60.5 60.9375 \r\nQ 60.75 60.890625 60.984375 60.890625 \r\nQ 61.921875 60.890625 62.8125 61.375 \r\nQ 63.71875 61.859375 64.1875 62.71875 \r\nQ 64.65625 63.578125 64.65625 64.5 \r\nQ 64.65625 65.4375 64.140625 66.3125 \r\nQ 63.625 67.1875 62.765625 67.640625 \r\nQ 61.921875 68.109375 60.984375 68.109375 \r\nQ 60.109375 68.109375 59.21875 67.640625 \r\nQ 58.34375 67.1875 57.859375 66.3125 \r\nQ 57.375 65.4375 57.375 64.5 \r\nQ 57.375 63.578125 57.859375 62.71875 \r\nQ 58.34375 61.859375 59.234375 61.375 \r\nQ 59.625 61.140625 59.96875 61.03125 \r\nz\r\nM 42.484375 24.03125 \r\nL 47.359375 24.03125 \r\nL 45.015625 64.75 \r\nQ 45.953125 64.75 46.734375 65.234375 \r\nQ 47.5625 65.71875 48.0625 66.578125 \r\nQ 48.578125 67.4375 48.578125 68.40625 \r\nQ 48.578125 69.34375 48.046875 70.1875 \r\nQ 47.515625 71.046875 46.671875 71.53125 \r\nQ 45.84375 72.015625 44.921875 72.015625 \r\nQ 44.046875 72.015625 43.140625 71.53125 \r\nQ 42.234375 71.046875 41.765625 70.1875 \r\nQ 41.3125 69.34375 41.3125 68.40625 \r\nQ 41.3125 67.4375 41.765625 66.578125 \r\nQ 42.234375 65.71875 43.171875 65.234375 \r\nQ 43.84375 64.84375 44.578125 64.75 \r\nz\r\nM 59.078125 25.390625 \r\nL 64.15625 27.4375 \r\nL 72.265625 51.375 \r\nQ 72.796875 51.21875 73.34375 51.21875 \r\nQ 74.265625 51.21875 75.125 51.734375 \r\nQ 75.984375 52.25 76.46875 53.078125 \r\nQ 76.953125 53.90625 76.953125 54.890625 \r\nQ 76.953125 55.8125 76.4375 56.6875 \r\nQ 75.921875 57.5625 75.09375 58.03125 \r\nQ 74.265625 58.5 73.34375 58.5 \r\nQ 72.359375 58.5 71.5 58.03125 \r\nQ 70.65625 57.5625 70.1875 56.6875 \r\nQ 69.734375 55.8125 69.734375 54.890625 \r\nQ 69.734375 53.90625 70.1875 53.078125 \r\nQ 70.65625 52.25 71.53125 51.703125 \r\nQ 71.734375 51.609375 71.875 51.515625 \r\nz\r\n\" id=\"DejaVuSans-9813\"/>\r\n     </defs>\r\n     <use xlink:href=\"#DejaVuSans-9813\"/>\r\n    </g>\r\n   </g>\r\n   <g id=\"text_2\">\r\n    <!-- ♕ -->\r\n    <g transform=\"translate(81.811563 172.518125)scale(0.3 -0.3)\">\r\n     <use xlink:href=\"#DejaVuSans-9813\"/>\r\n    </g>\r\n   </g>\r\n  </g>\r\n </g>\r\n <defs>\r\n  <clipPath id=\"p8ee77dc78b\">\r\n   <rect height=\"217.44\" width=\"217.44\" x=\"10.7\" y=\"7.2\"/>\r\n  </clipPath>\r\n </defs>\r\n</svg>\r\n",
      "image/png": "[encoded data removed]"
     },
     "metadata": {}
    }
   ],
   "source": [
    "#creamos el tablero de piezas\n",
    "b1=pawnController()\n",
    "\n",
    "#añadimos dos piezas al tablero\n",
    "b1.add_pawn(\"p1\", pawn(4, 5))\n",
    "b1.add_pawn(\"p2\", pawn(4, 6))\n",
    "#imprimimos las piezas y sus posiciones\n",
    "print(b1.pawn_list)\n",
    "\n",
    "#imprimimos el resultado de b1.board()\n",
    "print(b1.board())\n",
    "\n",
    "#dibujamos el tablero\n",
    "drawBoard(b1.board(), b1.board_wall.board())\n",
    "\n",
    "\n",
    "b1.move_pawn(\"p2\", \"left\") #p1 se mueve a la izq\n",
    "\n",
    "#print(b1.pawn_list)\n",
    "#print(b1.board())\n",
    "drawBoard(b1.board(), b1.board_wall.board())\n"
   ]
  },
  {
   "cell_type": "code",
   "execution_count": 9,
   "metadata": {
    "tags": []
   },
   "outputs": [],
   "source": [
    "class game:\n",
    "    def __init__(self):\n",
    "        self.board=pawnController()\n",
    "\n",
    "    def run(self):\n",
    "        board=self.board\n",
    "        board.add_pawn(\"p1\", pawn(4,8))\n",
    "        board.add_pawn(\"ai\", pawn(4,1))\n",
    "        board.board_wall.add_wall(\"w1\", wall(5, 2, \"left\"))\n",
    "        board.board_wall.add_wall(\"w2\", wall(4, 3, \"up\"))\n",
    "        while True:\n",
    "            clear_output(wait=True)\n",
    "            if kb.is_pressed('up'):\n",
    "                board.move_pawn(\"p1\", \"up\")\n",
    "            elif kb.is_pressed('down'):\n",
    "                board.move_pawn(\"p1\", \"down\")\n",
    "            elif kb.is_pressed('left'):\n",
    "                board.move_pawn(\"p1\", \"left\")\n",
    "            elif kb.is_pressed('right'):\n",
    "                board.move_pawn(\"p1\", \"right\")\n",
    "            elif kb.is_pressed('q'):\n",
    "                break\n",
    "            drawBoard(board.board(), board.board_wall.board())"
   ]
  },
  {
   "cell_type": "code",
   "execution_count": 10,
   "metadata": {
    "tags": []
   },
   "outputs": [
    {
     "output_type": "display_data",
     "data": {
      "text/plain": "<Figure size 432x288 with 1 Axes>",
      "image/svg+xml": "<?xml version=\"1.0\" encoding=\"utf-8\" standalone=\"no\"?>\r\n<!DOCTYPE svg PUBLIC \"-//W3C//DTD SVG 1.1//EN\"\r\n  \"http://www.w3.org/Graphics/SVG/1.1/DTD/svg11.dtd\">\r\n<!-- Created with matplotlib (https://matplotlib.org/) -->\r\n<svg height=\"235.34pt\" version=\"1.1\" viewBox=\"0 0 235.34 235.34\" width=\"235.34pt\" xmlns=\"http://www.w3.org/2000/svg\" xmlns:xlink=\"http://www.w3.org/1999/xlink\">\r\n <metadata>\r\n  <rdf:RDF xmlns:cc=\"http://creativecommons.org/ns#\" xmlns:dc=\"http://purl.org/dc/elements/1.1/\" xmlns:rdf=\"http://www.w3.org/1999/02/22-rdf-syntax-ns#\">\r\n   <cc:Work>\r\n    <dc:type rdf:resource=\"http://purl.org/dc/dcmitype/StillImage\"/>\r\n    <dc:date>2020-09-15T11:32:20.205106</dc:date>\r\n    <dc:format>image/svg+xml</dc:format>\r\n    <dc:creator>\r\n     <cc:Agent>\r\n      <dc:title>Matplotlib v3.3.1, https://matplotlib.org/</dc:title>\r\n     </cc:Agent>\r\n    </dc:creator>\r\n   </cc:Work>\r\n  </rdf:RDF>\r\n </metadata>\r\n <defs>\r\n  <style type=\"text/css\">*{stroke-linecap:butt;stroke-linejoin:round;}</style>\r\n </defs>\r\n <g id=\"figure_1\">\r\n  <g id=\"patch_1\">\r\n   <path d=\"M 0 235.34 \r\nL 235.34 235.34 \r\nL 235.34 0 \r\nL 0 0 \r\nz\r\n\" style=\"fill:none;\"/>\r\n  </g>\r\n  <g id=\"axes_1\">\r\n   <g id=\"patch_2\">\r\n    <path d=\"M 10.7 224.64 \r\nL 228.14 224.64 \r\nL 228.14 7.2 \r\nL 10.7 7.2 \r\nz\r\n\" style=\"fill:#ffffff;\"/>\r\n   </g>\r\n   <g clip-path=\"url(#p6185e5da0c)\">\r\n    <image height=\"218\" id=\"image5371970119\" transform=\"scale(1 -1)translate(0 -218)\" width=\"218\" x=\"10.7\" xlink:href=\"data:image/png;base64,\r\niVBORw0KGgoAAAANSUhEUgAAANoAAADaCAYAAADAHVzbAAADCUlEQVR4nO3cwY0kQQgAQeY0Ho3/JqxNnBWVElKEAd3wSNWPz+7uPPT39/fy8/P7/Z5+f+b+Dtfnn7m/w7+nXwdmRmiQEBoEhAYBoUFAaBAQGgSEBgGhQUBoEBAaBIQGAaFBQGgQEBoEhAYBoUFAaBAQGgSEBgGhQUBoEBAaBL7X7+W9nn/m/g7X55+5v4MXDQJCg4DQICA0CAgNAkKDgNAgIDQICA0CQoOA0CAgNAgIDQJCg4DQICA0CAgNAkKDgNAgIDQICA0CQoOA0CDw2d19+YPrNwtn7u9wff6Z+zt40SAgNAgIDQJCg4DQICA0CAgNAkKDgNAgIDQICA0CQoOA0CAgNAgIDQJCg4DQICA0CAgNAkKDgNAgIDQICA0CQoPA9/phytfzz9zf4fr8M/d38KJBQGgQEBoEhAYBoUFAaBAQGgSEBgGhQUBoEBAaBIQGAaFBQGgQEBoEhAYBoUFAaBAQGgSEBgGhQUBoEBAaBD67uy9/cP1m4cz9Ha7PP3N/By8aBIQGAaFBQGgQEBoEhAYBoUFAaBAQGgSEBgGhQUBoEBAaBIQGAaFBQGgQEBoEhAYBoUFAaBAQGgSEBgGhQeB7/V7e6/ln7u9wff6Z+zt40SAgNAgIDQJCg4DQICA0CAgNAkKDgNAgIDQICA0CQoOA0CAgNAgIDQJCg4DQICA0CAgNAkKDgNAgIDQICA0Cn93dlz+4frNw5v4O1+efub+DFw0CQoOA0CAgNAgIDQJCg4DQICA0CAgNAkKDgNAgIDQICA0CQoOA0CAgNAgIDQJCg4DQICA0CAgNAkKDgNAgIDQIfK8fpnw9/8z9Ha7PP3N/By8aBIQGAaFBQGgQEBoEhAYBoUFAaBAQGgSEBgGhQUBoEBAaBIQGAaFBQGgQEBoEhAYBoUFAaBAQGgSEBgGhQeCzu/vyB9dvFs7c3+H6/DP3d/CiQUBoEBAaBIQGAaFBQGgQEBoEhAYBoUFAaBAQGgSEBgGhQUBoEBAaBIQGAaFBQGgQEBoEhAYBoUFAaBAQGgT+A/v0i0AJzbWBAAAAAElFTkSuQmCC\" y=\"-6.64\"/>\r\n   </g>\r\n   <g id=\"matplotlib.axis_1\"/>\r\n   <g id=\"matplotlib.axis_2\"/>\r\n   <g id=\"patch_3\">\r\n    <path d=\"M 10.7 224.64 \r\nL 10.7 7.2 \r\n\" style=\"fill:none;stroke:#000000;stroke-linecap:square;stroke-linejoin:miter;stroke-width:0.8;\"/>\r\n   </g>\r\n   <g id=\"patch_4\">\r\n    <path d=\"M 228.14 224.64 \r\nL 228.14 7.2 \r\n\" style=\"fill:none;stroke:#000000;stroke-linecap:square;stroke-linejoin:miter;stroke-width:0.8;\"/>\r\n   </g>\r\n   <g id=\"patch_5\">\r\n    <path d=\"M 10.7 224.64 \r\nL 228.14 224.64 \r\n\" style=\"fill:none;stroke:#000000;stroke-linecap:square;stroke-linejoin:miter;stroke-width:0.8;\"/>\r\n   </g>\r\n   <g id=\"patch_6\">\r\n    <path d=\"M 10.7 7.2 \r\nL 228.14 7.2 \r\n\" style=\"fill:none;stroke:#000000;stroke-linecap:square;stroke-linejoin:miter;stroke-width:0.8;\"/>\r\n   </g>\r\n   <g id=\"text_1\">\r\n    <!-- ♕ -->\r\n    <g transform=\"translate(105.971563 51.718125)scale(0.3 -0.3)\">\r\n     <defs>\r\n      <path d=\"M 16.265625 49.75 \r\nQ 11.625 49.859375 11.03125 54.5 \r\nQ 11.03125 55.859375 11.734375 57.09375 \r\nQ 12.453125 58.34375 13.765625 59.03125 \r\nQ 15.09375 59.71875 16.5 59.71875 \r\nQ 17.875 59.71875 19.1875 59.03125 \r\nQ 20.515625 58.34375 21.1875 57.09375 \r\nQ 21.875 55.859375 21.875 54.5 \r\nQ 21.6875 51.375 18.890625 50.296875 \r\nL 30.5625 25.59375 \r\nL 28.03125 59.859375 \r\nQ 23.96875 59.859375 23.09375 64.40625 \r\nQ 23.09375 65.765625 23.796875 66.984375 \r\nQ 24.515625 68.21875 25.796875 68.890625 \r\nQ 27.09375 69.578125 28.609375 69.578125 \r\nQ 29.984375 69.578125 31.265625 68.890625 \r\nQ 32.5625 68.21875 33.265625 66.984375 \r\nQ 33.984375 65.765625 33.984375 64.40625 \r\nQ 33.890625 62.203125 31.640625 60.546875 \r\nL 40.875 24.03125 \r\nL 42.96875 64.0625 \r\nQ 39.703125 65.53125 39.59375 67.875 \r\nQ 39.59375 69.234375 40.328125 70.5 \r\nQ 41.0625 71.78125 42.359375 72.40625 \r\nQ 43.65625 73.046875 44.96875 73.046875 \r\nQ 46.390625 73.046875 47.671875 72.40625 \r\nQ 48.96875 71.78125 49.703125 70.5 \r\nQ 50.4375 69.234375 50.4375 67.875 \r\nQ 50.296875 65.234375 47.015625 64.0625 \r\nL 48.875 23.921875 \r\nL 57.90625 60.0625 \r\nQ 55.671875 62.359375 55.671875 64.40625 \r\nQ 55.671875 65.71875 56.375 66.96875 \r\nQ 57.078125 68.21875 58.390625 68.890625 \r\nQ 59.71875 69.578125 61.03125 69.578125 \r\nQ 62.5 69.578125 63.8125 68.890625 \r\nQ 65.140625 68.21875 65.84375 66.96875 \r\nQ 66.546875 65.71875 66.546875 64.40625 \r\nQ 66.015625 60.25 61.8125 59.46875 \r\nL 57.328125 25.59375 \r\nL 69.875 50.734375 \r\nQ 67.78125 52.390625 67.78125 54.5 \r\nQ 67.78125 55.859375 68.484375 57.09375 \r\nQ 69.1875 58.34375 70.484375 59 \r\nQ 71.78125 59.671875 73.140625 59.671875 \r\nQ 74.609375 59.671875 75.90625 59 \r\nQ 77.203125 58.34375 77.90625 57.09375 \r\nQ 78.609375 55.859375 78.609375 54.5 \r\nQ 77.984375 49.90625 73.140625 49.90625 \r\nL 65.328125 27.296875 \r\nL 65.328125 0 \r\nL 23.296875 0 \r\nL 23.296875 27.296875 \r\nz\r\nM 62.546875 13.1875 \r\nL 62.546875 24.171875 \r\nL 53.71875 20.515625 \r\nL 35.984375 20.515625 \r\nL 27.046875 23.484375 \r\nL 27.046875 13.1875 \r\nz\r\nM 27.046875 10.84375 \r\nL 27.046875 2.828125 \r\nL 62.546875 2.828125 \r\nL 62.546875 10.84375 \r\nz\r\nM 25 27.4375 \r\nL 28.765625 25.390625 \r\nL 17.484375 51.078125 \r\nQ 17.828125 51.21875 18.171875 51.421875 \r\nQ 19.046875 51.90625 19.53125 52.75 \r\nQ 20.015625 53.609375 20.015625 54.546875 \r\nQ 20.015625 55.515625 19.53125 56.375 \r\nQ 19.046875 57.234375 18.1875 57.71875 \r\nQ 17.328125 58.203125 16.359375 58.203125 \r\nQ 15.484375 58.203125 14.625 57.71875 \r\nQ 13.765625 57.234375 13.25 56.375 \r\nQ 12.75 55.515625 12.75 54.546875 \r\nQ 12.75 53.609375 13.234375 52.75 \r\nQ 13.71875 51.90625 14.59375 51.40625 \r\nQ 15.484375 50.921875 16.359375 50.921875 \r\nQ 16.703125 50.921875 17.140625 50.984375 \r\nz\r\nM 32.28125 25.59375 \r\nL 38.921875 24.03125 \r\nL 29.78125 61.1875 \r\nQ 30.078125 61.28125 30.328125 61.421875 \r\nQ 31.15625 61.921875 31.609375 62.765625 \r\nQ 32.078125 63.625 32.078125 64.546875 \r\nQ 32.078125 65.484375 31.609375 66.359375 \r\nQ 31.15625 67.234375 30.265625 67.703125 \r\nQ 29.390625 68.171875 28.515625 68.171875 \r\nQ 27.59375 68.171875 26.734375 67.703125 \r\nQ 25.875 67.234375 25.390625 66.359375 \r\nQ 24.90625 65.484375 24.90625 64.546875 \r\nQ 24.90625 63.625 25.359375 62.765625 \r\nQ 25.828125 61.921875 26.703125 61.421875 \r\nQ 27.59375 60.9375 28.515625 60.9375 \r\nQ 28.859375 60.9375 29.25 60.984375 \r\nz\r\nM 50.203125 24.421875 \r\nL 55.8125 25.734375 \r\nL 60.5 60.9375 \r\nQ 60.75 60.890625 60.984375 60.890625 \r\nQ 61.921875 60.890625 62.8125 61.375 \r\nQ 63.71875 61.859375 64.1875 62.71875 \r\nQ 64.65625 63.578125 64.65625 64.5 \r\nQ 64.65625 65.4375 64.140625 66.3125 \r\nQ 63.625 67.1875 62.765625 67.640625 \r\nQ 61.921875 68.109375 60.984375 68.109375 \r\nQ 60.109375 68.109375 59.21875 67.640625 \r\nQ 58.34375 67.1875 57.859375 66.3125 \r\nQ 57.375 65.4375 57.375 64.5 \r\nQ 57.375 63.578125 57.859375 62.71875 \r\nQ 58.34375 61.859375 59.234375 61.375 \r\nQ 59.625 61.140625 59.96875 61.03125 \r\nz\r\nM 42.484375 24.03125 \r\nL 47.359375 24.03125 \r\nL 45.015625 64.75 \r\nQ 45.953125 64.75 46.734375 65.234375 \r\nQ 47.5625 65.71875 48.0625 66.578125 \r\nQ 48.578125 67.4375 48.578125 68.40625 \r\nQ 48.578125 69.34375 48.046875 70.1875 \r\nQ 47.515625 71.046875 46.671875 71.53125 \r\nQ 45.84375 72.015625 44.921875 72.015625 \r\nQ 44.046875 72.015625 43.140625 71.53125 \r\nQ 42.234375 71.046875 41.765625 70.1875 \r\nQ 41.3125 69.34375 41.3125 68.40625 \r\nQ 41.3125 67.4375 41.765625 66.578125 \r\nQ 42.234375 65.71875 43.171875 65.234375 \r\nQ 43.84375 64.84375 44.578125 64.75 \r\nz\r\nM 59.078125 25.390625 \r\nL 64.15625 27.4375 \r\nL 72.265625 51.375 \r\nQ 72.796875 51.21875 73.34375 51.21875 \r\nQ 74.265625 51.21875 75.125 51.734375 \r\nQ 75.984375 52.25 76.46875 53.078125 \r\nQ 76.953125 53.90625 76.953125 54.890625 \r\nQ 76.953125 55.8125 76.4375 56.6875 \r\nQ 75.921875 57.5625 75.09375 58.03125 \r\nQ 74.265625 58.5 73.34375 58.5 \r\nQ 72.359375 58.5 71.5 58.03125 \r\nQ 70.65625 57.5625 70.1875 56.6875 \r\nQ 69.734375 55.8125 69.734375 54.890625 \r\nQ 69.734375 53.90625 70.1875 53.078125 \r\nQ 70.65625 52.25 71.53125 51.703125 \r\nQ 71.734375 51.609375 71.875 51.515625 \r\nz\r\n\" id=\"DejaVuSans-9813\"/>\r\n     </defs>\r\n     <use xlink:href=\"#DejaVuSans-9813\"/>\r\n    </g>\r\n   </g>\r\n   <g id=\"text_2\">\r\n    <!-- ♕ -->\r\n    <g transform=\"translate(81.811563 220.838125)scale(0.3 -0.3)\">\r\n     <use xlink:href=\"#DejaVuSans-9813\"/>\r\n    </g>\r\n   </g>\r\n   <g id=\"text_3\">\r\n    <!-- ― -->\r\n    <g transform=\"translate(73.76 67.385312)scale(0.43 -0.43)\">\r\n     <defs>\r\n      <path d=\"M 0 30.90625 \r\nL 100 30.90625 \r\nL 100 23.875 \r\nL 0 23.875 \r\nz\r\n\" id=\"DejaVuSans-8213\"/>\r\n     </defs>\r\n     <use xlink:href=\"#DejaVuSans-8213\"/>\r\n    </g>\r\n   </g>\r\n   <g id=\"text_4\">\r\n    <!-- ― -->\r\n    <g transform=\"translate(119.205313 64.94)rotate(-90)scale(0.43 -0.43)\">\r\n     <use xlink:href=\"#DejaVuSans-8213\"/>\r\n    </g>\r\n   </g>\r\n   <g id=\"text_5\">\r\n    <!-- ― -->\r\n    <g transform=\"translate(97.92 67.385312)scale(0.43 -0.43)\">\r\n     <use xlink:href=\"#DejaVuSans-8213\"/>\r\n    </g>\r\n   </g>\r\n   <g id=\"text_6\">\r\n    <!-- ― -->\r\n    <g transform=\"translate(119.205313 89.1)rotate(-90)scale(0.43 -0.43)\">\r\n     <use xlink:href=\"#DejaVuSans-8213\"/>\r\n    </g>\r\n   </g>\r\n  </g>\r\n </g>\r\n <defs>\r\n  <clipPath id=\"p6185e5da0c\">\r\n   <rect height=\"217.44\" width=\"217.44\" x=\"10.7\" y=\"7.2\"/>\r\n  </clipPath>\r\n </defs>\r\n</svg>\r\n",
      "image/png": "[encoded data removed]"
     },
     "metadata": {}
    }
   ],
   "source": [
    "g1=game()\n",
    "#bug: pawn tries to jump over pawn and wall\n",
    "g1.run()"
   ]
  },
  {
   "cell_type": "code",
   "execution_count": 11,
   "metadata": {},
   "outputs": [],
   "source": [
    "class board:\n",
    "    def __init__(self):\n",
    "        self.pawnController=pawnController()"
   ]
  },
  {
   "cell_type": "code",
   "execution_count": 12,
   "metadata": {},
   "outputs": [
    {
     "output_type": "display_data",
     "data": {
      "text/plain": "<Figure size 432x288 with 1 Axes>",
      "image/svg+xml": "<?xml version=\"1.0\" encoding=\"utf-8\" standalone=\"no\"?>\r\n<!DOCTYPE svg PUBLIC \"-//W3C//DTD SVG 1.1//EN\"\r\n  \"http://www.w3.org/Graphics/SVG/1.1/DTD/svg11.dtd\">\r\n<!-- Created with matplotlib (https://matplotlib.org/) -->\r\n<svg height=\"237.777187pt\" version=\"1.1\" viewBox=\"0 0 235.34 237.777187\" width=\"235.34pt\" xmlns=\"http://www.w3.org/2000/svg\" xmlns:xlink=\"http://www.w3.org/1999/xlink\">\r\n <metadata>\r\n  <rdf:RDF xmlns:cc=\"http://creativecommons.org/ns#\" xmlns:dc=\"http://purl.org/dc/elements/1.1/\" xmlns:rdf=\"http://www.w3.org/1999/02/22-rdf-syntax-ns#\">\r\n   <cc:Work>\r\n    <dc:type rdf:resource=\"http://purl.org/dc/dcmitype/StillImage\"/>\r\n    <dc:date>2020-09-15T11:43:25.496326</dc:date>\r\n    <dc:format>image/svg+xml</dc:format>\r\n    <dc:creator>\r\n     <cc:Agent>\r\n      <dc:title>Matplotlib v3.3.1, https://matplotlib.org/</dc:title>\r\n     </cc:Agent>\r\n    </dc:creator>\r\n   </cc:Work>\r\n  </rdf:RDF>\r\n </metadata>\r\n <defs>\r\n  <style type=\"text/css\">*{stroke-linecap:butt;stroke-linejoin:round;}</style>\r\n </defs>\r\n <g id=\"figure_1\">\r\n  <g id=\"patch_1\">\r\n   <path d=\"M 0 237.777187 \r\nL 235.34 237.777187 \r\nL 235.34 0 \r\nL 0 0 \r\nz\r\n\" style=\"fill:none;\"/>\r\n  </g>\r\n  <g id=\"axes_1\">\r\n   <g id=\"patch_2\">\r\n    <path d=\"M 10.7 227.077187 \r\nL 228.14 227.077187 \r\nL 228.14 9.637187 \r\nL 10.7 9.637187 \r\nz\r\n\" style=\"fill:#ffffff;\"/>\r\n   </g>\r\n   <g clip-path=\"url(#p524fdb76a1)\">\r\n    <image height=\"218\" id=\"image7d332f443b\" transform=\"scale(1 -1)translate(0 -218)\" width=\"218\" x=\"10.7\" xlink:href=\"data:image/png;base64,\r\niVBORw0KGgoAAAANSUhEUgAAANoAAADaCAYAAADAHVzbAAADCUlEQVR4nO3cwY0kQQgAQeY0Ho3/JqxNnBWVElKEAd3wSNWPz+7uPPT39/fy8/P7/Z5+f+b+Dtfnn7m/w7+nXwdmRmiQEBoEhAYBoUFAaBAQGgSEBgGhQUBoEBAaBIQGAaFBQGgQEBoEhAYBoUFAaBAQGgSEBgGhQUBoEBAaBL7X7+W9nn/m/g7X55+5v4MXDQJCg4DQICA0CAgNAkKDgNAgIDQICA0CQoOA0CAgNAgIDQJCg4DQICA0CAgNAkKDgNAgIDQICA0CQoOA0CDw2d19+YPrNwtn7u9wff6Z+zt40SAgNAgIDQJCg4DQICA0CAgNAkKDgNAgIDQICA0CQoOA0CAgNAgIDQJCg4DQICA0CAgNAkKDgNAgIDQICA0CQoPA9/phytfzz9zf4fr8M/d38KJBQGgQEBoEhAYBoUFAaBAQGgSEBgGhQUBoEBAaBIQGAaFBQGgQEBoEhAYBoUFAaBAQGgSEBgGhQUBoEBAaBD67uy9/cP1m4cz9Ha7PP3N/By8aBIQGAaFBQGgQEBoEhAYBoUFAaBAQGgSEBgGhQUBoEBAaBIQGAaFBQGgQEBoEhAYBoUFAaBAQGgSEBgGhQeB7/V7e6/ln7u9wff6Z+zt40SAgNAgIDQJCg4DQICA0CAgNAkKDgNAgIDQICA0CQoOA0CAgNAgIDQJCg4DQICA0CAgNAkKDgNAgIDQICA0Cn93dlz+4frNw5v4O1+efub+DFw0CQoOA0CAgNAgIDQJCg4DQICA0CAgNAkKDgNAgIDQICA0CQoOA0CAgNAgIDQJCg4DQICA0CAgNAkKDgNAgIDQIfK8fpnw9/8z9Ha7PP3N/By8aBIQGAaFBQGgQEBoEhAYBoUFAaBAQGgSEBgGhQUBoEBAaBIQGAaFBQGgQEBoEhAYBoUFAaBAQGgSEBgGhQeCzu/vyB9dvFs7c3+H6/DP3d/CiQUBoEBAaBIQGAaFBQGgQEBoEhAYBoUFAaBAQGgSEBgGhQUBoEBAaBIQGAaFBQGgQEBoEhAYBoUFAaBAQGgT+A/v0i0AJzbWBAAAAAElFTkSuQmCC\" y=\"-9.077187\"/>\r\n   </g>\r\n   <g id=\"matplotlib.axis_1\"/>\r\n   <g id=\"matplotlib.axis_2\"/>\r\n   <g id=\"patch_3\">\r\n    <path d=\"M 10.7 227.077188 \r\nL 10.7 9.637187 \r\n\" style=\"fill:none;stroke:#000000;stroke-linecap:square;stroke-linejoin:miter;stroke-width:0.8;\"/>\r\n   </g>\r\n   <g id=\"patch_4\">\r\n    <path d=\"M 228.14 227.077188 \r\nL 228.14 9.637187 \r\n\" style=\"fill:none;stroke:#000000;stroke-linecap:square;stroke-linejoin:miter;stroke-width:0.8;\"/>\r\n   </g>\r\n   <g id=\"patch_5\">\r\n    <path d=\"M 10.7 227.077187 \r\nL 228.14 227.077187 \r\n\" style=\"fill:none;stroke:#000000;stroke-linecap:square;stroke-linejoin:miter;stroke-width:0.8;\"/>\r\n   </g>\r\n   <g id=\"patch_6\">\r\n    <path d=\"M 10.7 9.637187 \r\nL 228.14 9.637187 \r\n\" style=\"fill:none;stroke:#000000;stroke-linecap:square;stroke-linejoin:miter;stroke-width:0.8;\"/>\r\n   </g>\r\n   <g id=\"text_1\">\r\n    <!-- ♕ -->\r\n    <g transform=\"translate(105.971563 29.995312)scale(0.3 -0.3)\">\r\n     <defs>\r\n      <path d=\"M 16.265625 49.75 \r\nQ 11.625 49.859375 11.03125 54.5 \r\nQ 11.03125 55.859375 11.734375 57.09375 \r\nQ 12.453125 58.34375 13.765625 59.03125 \r\nQ 15.09375 59.71875 16.5 59.71875 \r\nQ 17.875 59.71875 19.1875 59.03125 \r\nQ 20.515625 58.34375 21.1875 57.09375 \r\nQ 21.875 55.859375 21.875 54.5 \r\nQ 21.6875 51.375 18.890625 50.296875 \r\nL 30.5625 25.59375 \r\nL 28.03125 59.859375 \r\nQ 23.96875 59.859375 23.09375 64.40625 \r\nQ 23.09375 65.765625 23.796875 66.984375 \r\nQ 24.515625 68.21875 25.796875 68.890625 \r\nQ 27.09375 69.578125 28.609375 69.578125 \r\nQ 29.984375 69.578125 31.265625 68.890625 \r\nQ 32.5625 68.21875 33.265625 66.984375 \r\nQ 33.984375 65.765625 33.984375 64.40625 \r\nQ 33.890625 62.203125 31.640625 60.546875 \r\nL 40.875 24.03125 \r\nL 42.96875 64.0625 \r\nQ 39.703125 65.53125 39.59375 67.875 \r\nQ 39.59375 69.234375 40.328125 70.5 \r\nQ 41.0625 71.78125 42.359375 72.40625 \r\nQ 43.65625 73.046875 44.96875 73.046875 \r\nQ 46.390625 73.046875 47.671875 72.40625 \r\nQ 48.96875 71.78125 49.703125 70.5 \r\nQ 50.4375 69.234375 50.4375 67.875 \r\nQ 50.296875 65.234375 47.015625 64.0625 \r\nL 48.875 23.921875 \r\nL 57.90625 60.0625 \r\nQ 55.671875 62.359375 55.671875 64.40625 \r\nQ 55.671875 65.71875 56.375 66.96875 \r\nQ 57.078125 68.21875 58.390625 68.890625 \r\nQ 59.71875 69.578125 61.03125 69.578125 \r\nQ 62.5 69.578125 63.8125 68.890625 \r\nQ 65.140625 68.21875 65.84375 66.96875 \r\nQ 66.546875 65.71875 66.546875 64.40625 \r\nQ 66.015625 60.25 61.8125 59.46875 \r\nL 57.328125 25.59375 \r\nL 69.875 50.734375 \r\nQ 67.78125 52.390625 67.78125 54.5 \r\nQ 67.78125 55.859375 68.484375 57.09375 \r\nQ 69.1875 58.34375 70.484375 59 \r\nQ 71.78125 59.671875 73.140625 59.671875 \r\nQ 74.609375 59.671875 75.90625 59 \r\nQ 77.203125 58.34375 77.90625 57.09375 \r\nQ 78.609375 55.859375 78.609375 54.5 \r\nQ 77.984375 49.90625 73.140625 49.90625 \r\nL 65.328125 27.296875 \r\nL 65.328125 0 \r\nL 23.296875 0 \r\nL 23.296875 27.296875 \r\nz\r\nM 62.546875 13.1875 \r\nL 62.546875 24.171875 \r\nL 53.71875 20.515625 \r\nL 35.984375 20.515625 \r\nL 27.046875 23.484375 \r\nL 27.046875 13.1875 \r\nz\r\nM 27.046875 10.84375 \r\nL 27.046875 2.828125 \r\nL 62.546875 2.828125 \r\nL 62.546875 10.84375 \r\nz\r\nM 25 27.4375 \r\nL 28.765625 25.390625 \r\nL 17.484375 51.078125 \r\nQ 17.828125 51.21875 18.171875 51.421875 \r\nQ 19.046875 51.90625 19.53125 52.75 \r\nQ 20.015625 53.609375 20.015625 54.546875 \r\nQ 20.015625 55.515625 19.53125 56.375 \r\nQ 19.046875 57.234375 18.1875 57.71875 \r\nQ 17.328125 58.203125 16.359375 58.203125 \r\nQ 15.484375 58.203125 14.625 57.71875 \r\nQ 13.765625 57.234375 13.25 56.375 \r\nQ 12.75 55.515625 12.75 54.546875 \r\nQ 12.75 53.609375 13.234375 52.75 \r\nQ 13.71875 51.90625 14.59375 51.40625 \r\nQ 15.484375 50.921875 16.359375 50.921875 \r\nQ 16.703125 50.921875 17.140625 50.984375 \r\nz\r\nM 32.28125 25.59375 \r\nL 38.921875 24.03125 \r\nL 29.78125 61.1875 \r\nQ 30.078125 61.28125 30.328125 61.421875 \r\nQ 31.15625 61.921875 31.609375 62.765625 \r\nQ 32.078125 63.625 32.078125 64.546875 \r\nQ 32.078125 65.484375 31.609375 66.359375 \r\nQ 31.15625 67.234375 30.265625 67.703125 \r\nQ 29.390625 68.171875 28.515625 68.171875 \r\nQ 27.59375 68.171875 26.734375 67.703125 \r\nQ 25.875 67.234375 25.390625 66.359375 \r\nQ 24.90625 65.484375 24.90625 64.546875 \r\nQ 24.90625 63.625 25.359375 62.765625 \r\nQ 25.828125 61.921875 26.703125 61.421875 \r\nQ 27.59375 60.9375 28.515625 60.9375 \r\nQ 28.859375 60.9375 29.25 60.984375 \r\nz\r\nM 50.203125 24.421875 \r\nL 55.8125 25.734375 \r\nL 60.5 60.9375 \r\nQ 60.75 60.890625 60.984375 60.890625 \r\nQ 61.921875 60.890625 62.8125 61.375 \r\nQ 63.71875 61.859375 64.1875 62.71875 \r\nQ 64.65625 63.578125 64.65625 64.5 \r\nQ 64.65625 65.4375 64.140625 66.3125 \r\nQ 63.625 67.1875 62.765625 67.640625 \r\nQ 61.921875 68.109375 60.984375 68.109375 \r\nQ 60.109375 68.109375 59.21875 67.640625 \r\nQ 58.34375 67.1875 57.859375 66.3125 \r\nQ 57.375 65.4375 57.375 64.5 \r\nQ 57.375 63.578125 57.859375 62.71875 \r\nQ 58.34375 61.859375 59.234375 61.375 \r\nQ 59.625 61.140625 59.96875 61.03125 \r\nz\r\nM 42.484375 24.03125 \r\nL 47.359375 24.03125 \r\nL 45.015625 64.75 \r\nQ 45.953125 64.75 46.734375 65.234375 \r\nQ 47.5625 65.71875 48.0625 66.578125 \r\nQ 48.578125 67.4375 48.578125 68.40625 \r\nQ 48.578125 69.34375 48.046875 70.1875 \r\nQ 47.515625 71.046875 46.671875 71.53125 \r\nQ 45.84375 72.015625 44.921875 72.015625 \r\nQ 44.046875 72.015625 43.140625 71.53125 \r\nQ 42.234375 71.046875 41.765625 70.1875 \r\nQ 41.3125 69.34375 41.3125 68.40625 \r\nQ 41.3125 67.4375 41.765625 66.578125 \r\nQ 42.234375 65.71875 43.171875 65.234375 \r\nQ 43.84375 64.84375 44.578125 64.75 \r\nz\r\nM 59.078125 25.390625 \r\nL 64.15625 27.4375 \r\nL 72.265625 51.375 \r\nQ 72.796875 51.21875 73.34375 51.21875 \r\nQ 74.265625 51.21875 75.125 51.734375 \r\nQ 75.984375 52.25 76.46875 53.078125 \r\nQ 76.953125 53.90625 76.953125 54.890625 \r\nQ 76.953125 55.8125 76.4375 56.6875 \r\nQ 75.921875 57.5625 75.09375 58.03125 \r\nQ 74.265625 58.5 73.34375 58.5 \r\nQ 72.359375 58.5 71.5 58.03125 \r\nQ 70.65625 57.5625 70.1875 56.6875 \r\nQ 69.734375 55.8125 69.734375 54.890625 \r\nQ 69.734375 53.90625 70.1875 53.078125 \r\nQ 70.65625 52.25 71.53125 51.703125 \r\nQ 71.734375 51.609375 71.875 51.515625 \r\nz\r\n\" id=\"DejaVuSans-9813\"/>\r\n     </defs>\r\n     <use xlink:href=\"#DejaVuSans-9813\"/>\r\n    </g>\r\n   </g>\r\n  </g>\r\n </g>\r\n <defs>\r\n  <clipPath id=\"p524fdb76a1\">\r\n   <rect height=\"217.44\" width=\"217.44\" x=\"10.7\" y=\"9.637188\"/>\r\n  </clipPath>\r\n </defs>\r\n</svg>\r\n",
      "image/png": "[encoded data removed]"
     },
     "metadata": {}
    }
   ],
   "source": [
    "b=board()\n",
    "b.pawnController.add_pawn(\"p1\", pawn(4,0))\n",
    "drawBoard(b.pawnController.board(), b.pawnController.board_wall.board()"
   ]
  }
 ],
 "metadata": {
  "language_info": {
   "name": "python",
   "codemirror_mode": {
    "name": "ipython",
    "version": 3
   },
   "version": "3.7.4-final"
  },
  "orig_nbformat": 2,
  "file_extension": ".py",
  "mimetype": "text/x-python",
  "name": "python",
  "npconvert_exporter": "python",
  "pygments_lexer": "ipython3",
  "version": 3,
  "kernelspec": {
   "name": "python37464bitab80cb4169444818a473ec826b709687",
   "display_name": "Python 3.7.4 64-bit"
  }
 },
 "nbformat": 4,
 "nbformat_minor": 2
}