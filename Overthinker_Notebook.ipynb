{
 "cells": [
  {
   "cell_type": "code",
   "execution_count": 1,
   "metadata": {},
   "outputs": [],
   "source": [
    "import matplotlib.pyplot as plt\n",
    "import numpy as np\n",
    "#import matplotlib.image as mpimg"
   ]
  },
  {
   "cell_type": "code",
   "execution_count": 2,
   "metadata": {},
   "outputs": [],
   "source": [
    "class pawn:\n",
    "    \n",
    "    #Constructor\n",
    "    def __init__(self, x=0, y=0):\n",
    "        self.x, self.y=x, y\n",
    "    \n",
    "    #Funcion de la clase para retornar una representacion de la clase en un string\n",
    "    #si no se define esto, al llamar pawn bota la direccion del objeto\n",
    "    def __repr__(self):\n",
    "        return \"[\"+str(self.x)+\", \"+str(self.y)+\"]\"\n",
    "    \n",
    "    #Movimiento:\n",
    "    def left(self):\n",
    "        if self.x < 0:\n",
    "            self.x-=1\n",
    "    def right(self):\n",
    "        if self.x < 8:\n",
    "            self.x+=1\n",
    "    def up(self):\n",
    "        if self.y > 0:\n",
    "            self.y-=1\n",
    "    def down(self):\n",
    "        if self.y < 8:\n",
    "            self.y+=1\n",
    "    #Agregar validación cuando hayan 2 pawns adyacentes o 1 pawn y 1 pared\n",
    "    #Imprime las coordenadas / para debug\n",
    "    def coords(self):\n",
    "        return [self.x, self.y]"
   ]
  },
  {
   "cell_type": "code",
   "execution_count": null,
   "metadata": {},
   "outputs": [],
   "source": [
    "class wall:\n",
    "\n",
    "    #Constructor\n",
    "    def __init__(self, x=0, y=0, direction=\"left\"):\n",
    "        self.x, self.y, self.direction=x, y, direction\n",
    "    \n",
    "    def __repr__(self):\n",
    "        return \"[\"+str(self.x)+\", \"+str(self.y)+\", \" + self.direction + \"]\""
   ]
  },
  {
   "cell_type": "code",
   "execution_count": null,
   "metadata": {},
   "outputs": [],
   "source": [
    "class board_wall:\n",
    "    #Contenedor de paredes\n",
    "    #Constructor\n",
    "    def __init__(self):\n",
    "        self.wall_list={}\n",
    "\n",
    "    #Agrega wall al diccionario\n",
    "    def add_wall(self, name, wall):\n",
    "        self.wall_list[name]=wall\n",
    "\n",
    "    def board(self):\n",
    "        board=[[0 for _ in range(10)] for _ in range(10)]\n",
    "        for_delete=[]\n",
    "        for i in self.wall_list:\n",
    "            if self.wall_list[i].direction == \"left\" and self.wall_list[i].x >= 2 and self.wall_list[i].y >= 1 and self.wall_list[i].y <= 8:\n",
    "            \n",
    "                board[self.wall_list[i].y][self.wall_list[i].x]=2\n",
    "                board[self.wall_list[i].y][self.wall_list[i].x-1]=2\n",
    "                \n",
    "\n",
    "            elif self.wall_list[i].direction == \"up\" and self.wall_list[i].x <= 8 and self.wall_list[i].x >=1 and self.wall_list[i].y >= 2 and self.wall_list[i].y <= 9:\n",
    "                board[self.wall_list[i].y][self.wall_list[i].x]=3\n",
    "                board[self.wall_list[i].y-1][self.wall_list[i].x]=3\n",
    "                \n",
    "            else:\n",
    "                for_delete.append(i)\n",
    "                print(\"Invalid wall\")\n",
    "        for i in for_delete:\n",
    "            del self.wall_list[i]\n",
    "        return board\n",
    "    def restricted_moves(self):\n",
    "        invalid_moves=[]\n",
    "        for i in self.wall_list:\n",
    "            if self.wall_list[i].direction==\"left\":\n",
    "                aux_wall=self.wall_list[i]\n",
    "                invalid_moves.append([[aux_wall.x-1, aux_wall.y],[aux_wall.x-1, aux_wall.y-1]])\n",
    "                invalid_moves.append([[aux_wall.x-1, aux_wall.y-1],[aux_wall.x-1, aux_wall.y]])\n",
    "                invalid_moves.append([[aux_wall.x-2, aux_wall.y],[aux_wall.x-2, aux_wall.y-1]])\n",
    "                invalid_moves.append([[aux_wall.x-2, aux_wall.y-1],[aux_wall.x-2, aux_wall.y]])\n",
    "            elif self.wall_list[i].direction==\"up\":\n",
    "                aux_wall=self.wall_list[i]\n",
    "                invalid_moves.append([[aux_wall.x, aux_wall.y-2], [aux_wall.x-1, aux_wall.y-2]])\n",
    "                invalid_moves.append([[aux_wall.x-1, aux_wall.y-2], [aux_wall.x, aux_wall.y-2]])\n",
    "                invalid_moves.append([[aux_wall.x, aux_wall.y-1], [aux_wall.x-1, aux_wall.y-1]])\n",
    "                invalid_moves.append([[aux_wall.x-1, aux_wall.y-1], [aux_wall.x, aux_wall.y-1]])\n",
    "        return invalid_moves"
   ]
  }
 ],
 "metadata": {
  "language_info": {
   "name": "python",
   "codemirror_mode": {
    "name": "ipython",
    "version": 3
   },
   "version": "3.7.4-final"
  },
  "orig_nbformat": 2,
  "file_extension": ".py",
  "mimetype": "text/x-python",
  "name": "python",
  "npconvert_exporter": "python",
  "pygments_lexer": "ipython3",
  "version": 3,
  "kernelspec": {
   "name": "python37464bitab80cb4169444818a473ec826b709687",
   "display_name": "Python 3.7.4 64-bit"
  }
 },
 "nbformat": 4,
 "nbformat_minor": 2
}