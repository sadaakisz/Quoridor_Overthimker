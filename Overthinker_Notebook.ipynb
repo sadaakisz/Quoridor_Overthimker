{
 "cells": [
  {
   "cell_type": "code",
   "execution_count": 1,
   "metadata": {},
   "outputs": [],
   "source": [
    "import matplotlib.pyplot as plt\n",
    "import numpy as np\n",
    "#import matplotlib.image as mpimg"
   ]
  },
  {
   "cell_type": "code",
   "execution_count": 2,
   "metadata": {},
   "outputs": [],
   "source": [
    "class pawn:\n",
    "    \n",
    "    #Constructor\n",
    "    def __init__(self, x=0, y=0):\n",
    "        self.x, self.y=x, y\n",
    "    \n",
    "    #Funcion de la clase para retornar una representacion de la clase en un string\n",
    "    #si no se define esto, al llamar pawn bota la direccion del objeto\n",
    "    def __repr__(self):\n",
    "        return \"[\"+str(self.x)+\", \"+str(self.y)+\"]\"\n",
    "    \n",
    "    #Movimiento:\n",
    "    def left(self):\n",
    "        if self.x < 0:\n",
    "            self.x-=1\n",
    "    def right(self):\n",
    "        if self.x < 8:\n",
    "            self.x+=1\n",
    "    def up(self):\n",
    "        if self.y > 0:\n",
    "            self.y-=1\n",
    "    def down(self):\n",
    "        if self.y < 8:\n",
    "            self.y+=1\n",
    "    #Agregar validación cuando hayan 2 pawns adyacentes o 1 pawn y 1 pared\n",
    "    #Imprime las coordenadas / para debug\n",
    "    def coords(self):\n",
    "        return [self.x, self.y]"
   ]
  }
 ],
 "metadata": {
  "language_info": {
   "name": "python",
   "codemirror_mode": {
    "name": "ipython",
    "version": 3
   },
   "version": "3.7.4-final"
  },
  "orig_nbformat": 2,
  "file_extension": ".py",
  "mimetype": "text/x-python",
  "name": "python",
  "npconvert_exporter": "python",
  "pygments_lexer": "ipython3",
  "version": 3,
  "kernelspec": {
   "name": "python37464bitab80cb4169444818a473ec826b709687",
   "display_name": "Python 3.7.4 64-bit"
  }
 },
 "nbformat": 4,
 "nbformat_minor": 2
}