{
 "metadata": {
  "language_info": {
   "codemirror_mode": {
    "name": "ipython",
    "version": 3
   },
   "file_extension": ".py",
   "mimetype": "text/x-python",
   "name": "python",
   "nbconvert_exporter": "python",
   "pygments_lexer": "ipython3",
   "version": "3.7.4-final"
  },
  "orig_nbformat": 2,
  "kernelspec": {
   "name": "python_defaultSpec_1600189137261",
   "display_name": "Python 3.7.4 64-bit"
  }
 },
 "nbformat": 4,
 "nbformat_minor": 2,
 "cells": [
  {
   "cell_type": "code",
   "execution_count": 1,
   "metadata": {},
   "outputs": [],
   "source": [
    "import matplotlib.pyplot as plt\n",
    "import numpy as np\n",
    "import keyboard as kb\n",
    "from IPython.display import clear_output"
   ]
  },
  {
   "cell_type": "code",
   "execution_count": 2,
   "metadata": {},
   "outputs": [],
   "source": [
    "class pawn:\n",
    "    def __init__(self, x=0, y=0):\n",
    "        self.x, self.y=x, y\n",
    "    def __repr__(self):\n",
    "        return \"[\"+str(self.x)+\", \"+str(self.y)+\"]\"\n",
    "    def move(self, direction):\n",
    "        if direction==\"left\":\n",
    "            if self.x > 0:\n",
    "                self.x-=1\n",
    "        if direction==\"right\":\n",
    "            if self.x < 8:\n",
    "                self.x+=1\n",
    "        if direction==\"up\":\n",
    "            if self.y > 0:\n",
    "                self.y-=1\n",
    "        if direction==\"down\":\n",
    "            if self.y < 8:\n",
    "                self.y+=1\n",
    "    def coord(self):\n",
    "        return [self.x, self.y]"
   ]
  },
  {
   "cell_type": "code",
   "execution_count": 3,
   "metadata": {},
   "outputs": [],
   "source": [
    "class wall:\n",
    "    def __init__(self, x=0, y=0, direction=\"left\"):\n",
    "        self.x, self.y, self.direction=x, y, direction\n",
    "    def __repr__(self):\n",
    "        return \"[\"+str(self.x)+\", \"+str(self.y)+\", \" + self.direction + \"]\""
   ]
  },
  {
   "cell_type": "code",
   "execution_count": 7,
   "metadata": {},
   "outputs": [],
   "source": [
    "class pawnController:\n",
    "    def __init__(self):\n",
    "        self.pawnList={}\n",
    "    def add_pawn(self, name, pawn):\n",
    "        self.pawnList[name]=pawn\n",
    "\n",
    "    def matrix(self):\n",
    "        matrix=[[0 for _ in range(9)] for _ in range(9)]\n",
    "        for i in self.pawnList:\n",
    "            pawn=self.pawnList[i]\n",
    "            matrix[pawn.y][pawn.x]=1\n",
    "        return matrix\n",
    "\n",
    "    def move_pawn(self, name, direction):\n",
    "        self.pawnList[name].move(direction)\n",
    "    "
   ]
  },
  {
   "cell_type": "code",
   "execution_count": 22,
   "metadata": {},
   "outputs": [],
   "source": [
    "class wallController:\n",
    "    def __init__(self):\n",
    "        self.wallList={}\n",
    "    def add_wall(self, name, wall):\n",
    "        if name not in self.wallList:\n",
    "            if wall.direction == \"left\" and wall.x >= 2 and wall.y >= 1 and wall.y <= 8:\n",
    "                self.wallList[name]=wall\n",
    "            elif wall.direction == \"up\" and wall.x <= 8 and wall.x >=1 and wall.y >= 2 and wall.y <= 9:\n",
    "                self.wallList[name]=wall\n",
    "    def matrix(self):\n",
    "        matrix=[[0 for _ in range(10)] for _ in range(10)]\n",
    "        for i in self.wallList:\n",
    "            wall=self.wallList[i]\n",
    "            if wall.direction == \"left\":\n",
    "                matrix[wall.y][wall.x-1]+=2\n",
    "                matrix[wall.y][wall.x]+=2\n",
    "            elif wall.direction == \"up\":\n",
    "                matrix[wall.y][wall.x]+=3\n",
    "                matrix[wall.y-1][wall.x]+=3\n",
    "        return matrix\n",
    "\n",
    "    def ill_moves(self):\n",
    "        illegal_moves=[]\n",
    "        for i in self.wallList:\n",
    "            wall=self.wallList[i]\n",
    "            if wall.direction==\"left\":\n",
    "                illegal_moves.extend([[[wall.x-1, wall.y],[wall.x-1, wall.y-1]],\n",
    "                                        [[wall.x-1, wall.y-1],[wall.x-1, wall.y]],\n",
    "                                        [[wall.x-2, wall.y],[wall.x-2, wall.y-1]],\n",
    "                                        [[wall.x-2, wall.y-1],[wall.x-2, wall.y]]])\n",
    "            elif wall.direction==\"up\":\n",
    "                illegal_moves.extend([[[wall.x, wall.y-2], [wall.x-1, wall.y-2]],\n",
    "                                        [[wall.x-1, wall.y-2], [wall.x, wall.y-2]],\n",
    "                                        [[wall.x, wall.y-1], [wall.x-1, wall.y-1]],\n",
    "                                        [[wall.x-1, wall.y-1], [wall.x, wall.y-1]]])\n",
    "        return illegal_moves"
   ]
  },
  {
   "cell_type": "code",
   "execution_count": 14,
   "metadata": {},
   "outputs": [],
   "source": [
    "class board:\n",
    "    def __init__(self):\n",
    "        self.pawnController=pawnController()\n",
    "        self.wallController=wallController()\n",
    "    def add_pawn(self, name, pawn):\n",
    "        self.pawnController.add_pawn(name, pawn)\n",
    "    def move_pawn(self, name, direction):\n",
    "        self.pawnController.move_pawn(name, direction)\n",
    "    def add_wall(self, name, wall):\n",
    "        self.wallController.add_wall(name, wall)"
   ]
  },
  {
   "cell_type": "code",
   "execution_count": 26,
   "metadata": {
    "tags": []
   },
   "outputs": [
    {
     "output_type": "stream",
     "name": "stdout",
     "text": "w1\nw2\n"
    }
   ],
   "source": [
    "b=board()\n",
    "b.pawnController.add_pawn(\"p1\", pawn(4,1))\n",
    "b.wallController.add_wall(\"w1\", wall(5, 2, \"left\"))\n",
    "b.wallController.add_wall(\"w3\", wall(0, 2, \"left\"))\n",
    "b.wallController.add_wall(\"w2\", wall(4, 3, \"up\"))\n",
    "for i in b.wallController.wallList:\n",
    "    print(i)\n"
   ]
  },
  {
   "cell_type": "code",
   "execution_count": null,
   "metadata": {},
   "outputs": [],
   "source": []
  }
 ]
}