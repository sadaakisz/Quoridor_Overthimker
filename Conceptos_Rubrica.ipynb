{
 "metadata": {
  "language_info": {
   "codemirror_mode": {
    "name": "ipython",
    "version": 3
   },
   "file_extension": ".py",
   "mimetype": "text/x-python",
   "name": "python",
   "nbconvert_exporter": "python",
   "pygments_lexer": "ipython3",
   "version": "3.8.5-final"
  },
  "orig_nbformat": 2,
  "kernelspec": {
   "name": "Python 3.8.5 64-bit",
   "display_name": "Python 3.8.5 64-bit",
   "metadata": {
    "interpreter": {
     "hash": "319fb84e09a5e159de7938bbd774dd07b66815032707276b08ccfc9c50590649"
    }
   }
  }
 },
 "nbformat": 4,
 "nbformat_minor": 2,
 "cells": [
  {
   "cell_type": "code",
   "execution_count": 2,
   "metadata": {},
   "outputs": [],
   "source": [
    "#Conceptos Básicos de la Rúbrica"
   ]
  },
  {
   "cell_type": "code",
   "execution_count": 3,
   "metadata": {},
   "outputs": [
    {
     "output_type": "execute_result",
     "data": {
      "text/plain": "&#39;\\nLa introducción, como dice su nombre, es párrafo dedicado a explicar de qué consiste el trabajo, los antecedentes y lo que va a desarrollar en el proyecto. En este caso se ha\\nexplicado de manera breve en qué consiste el juego de mesa Quoridor, algunas de las importantes reglas que posee, el &quot;gameplay&quot; del juego, etc. También se habla de la existencia de los posibles algoritmos que puedan crear un supuestmo &quot;bot&quot; que pueda llegar a a la meta por si mismo, cumpliendo las reglas del juego. Con ello finalmnete se explica el objetivo del trabajo. \\n&#39;"
     },
     "metadata": {},
     "execution_count": 3
    }
   ],
   "source": [
    "#Introducción\n",
    "\"\"\"\n",
    "La introducción, como dice su nombre, es párrafo dedicado a explicar de qué consiste el trabajo, los antecedentes y lo que va a desarrollar en el proyecto. En este caso se ha\n",
    "explicado de manera breve en qué consiste el juego de mesa Quoridor, algunas de las importantes reglas que posee, el \"gameplay\" del juego, etc. También se habla de la existencia de los posibles algoritmos que puedan crear un supuestmo \"bot\" que pueda llegar a a la meta por si mismo, cumpliendo las reglas del juego. Con ello finalmnete se explica el objetivo del trabajo. \n",
    "\"\"\""
   ]
  },
  {
   "cell_type": "code",
   "execution_count": 4,
   "metadata": {},
   "outputs": [
    {
     "output_type": "execute_result",
     "data": {
      "text/plain": "&quot;\\nEn el Estado de Arte, se explica mayormente toda la documentación disponible que hay sobre Quoridor y su relación con posibles Algoritmos que puedan buscar el movimiento más óptimo posible. Se ha encontrado documentos, PDF&#39;s y artículos en internet sobre el tema en especial. Durante la investigación se ha hallado varias investigaciones sobre bots que puedan seguir las mejores estrategias en Quoridor mediante algorimtos, ya sea por una IA o con simples algorimtos de recursión. Eso último fue en lo que se ha enfocado ya que es lo que actualmente el curso nos está enseñando.\\n&quot;"
     },
     "metadata": {},
     "execution_count": 4
    }
   ],
   "source": [
    "#Estado del Arte\n",
    "\"\"\"\n",
    "En el Estado de Arte, se explica mayormente toda la documentación disponible que hay sobre Quoridor y su relación con posibles Algoritmos que puedan buscar el movimiento más óptimo posible. Se ha encontrado documentos, PDF's y artículos en internet sobre el tema en especial. Durante la investigación se ha hallado varias investigaciones sobre bots que puedan seguir las mejores estrategias en Quoridor mediante algorimtos, ya sea por una IA o con simples algorimtos de recursión. Eso último fue en lo que se ha enfocado ya que es lo que actualmente el curso nos está enseñando.\n",
    "\"\"\""
   ]
  },
  {
   "cell_type": "code",
   "execution_count": 5,
   "metadata": {},
   "outputs": [
    {
     "output_type": "execute_result",
     "data": {
      "text/plain": "&#39;\\nEn Metodología, se explica mayormente el cómo el grupo está trabajando el proyecto. Desde en que plataformas trabajar, hasta las herramientas y técnicas que se ha utilizado para  el desarrollo de esta. En esta parte se habla más del proceso que tuvimos mientras desarrollabamos el trabajo, como el uso inicial de CoCalc, que permitía trabajar simultáneo, hasta que nos dimos cuenta que se debía usar GitHub para subir el trabajo. Por ello nos movimos a Visual Studios, moviendo todo lo que se había hecho en la anterior plataforma. Se trabajo en el formato de Jupyter Notebook usando la Programación Orientada a Objetos. (Mayor información en el documento)\\n&#39;"
     },
     "metadata": {},
     "execution_count": 5
    }
   ],
   "source": [
    "#Metodología\n",
    "\"\"\"\n",
    "En Metodología, se explica mayormente el cómo el grupo está trabajando el proyecto. Desde en que plataformas trabajar, hasta las herramientas y técnicas que se ha utilizado para  el desarrollo de esta. En esta parte se habla más del proceso que tuvimos mientras desarrollabamos el trabajo, como el uso inicial de CoCalc, que permitía trabajar simultáneo, hasta que nos dimos cuenta que se debía usar GitHub para subir el trabajo. Por ello nos movimos a Visual Studios, moviendo todo lo que se había hecho en la anterior plataforma. Se trabajo en el formato de Jupyter Notebook usando la Programación Orientada a Objetos. (Mayor información en el documento)\n",
    "\"\"\""
   ]
  },
  {
   "cell_type": "code",
   "execution_count": 6,
   "metadata": {},
   "outputs": [
    {
     "output_type": "execute_result",
     "data": {
      "text/plain": "&#39;\\nEn Experimentos, se explica mayormente todo el proceso de desarrollo y expermientos que se ha hecho para poder llegar a la solución final. Antes de empezar con los algoritmos, se había comprobado primero el funcionamiento del movimiento del peón, el funcionamiento de las paredes y como estas restringen el movimiento del peón. Se ha experimentado programando varias paredes, como un laberinto, para revisar si en realidad restrigian el movimiento del peón. Después de haber convalidado todo ello, se empezó a implementar los algoritmos para hacer que el peón encuentre el camino a su meta designada. Para los algoritmos de fuerza bruta y backtracking se usó los métodos de recursividad basados en ejemplos vistos en las clases del curso de Complejidad Algoritmica, además de los valores creados que controlan los peones, paredes y el tablero. Para el caso de los algoritmos DFS y BFS, se ha tenido que reconfigurar el tablero como un grafo, incluyendo también algunas funciones de las paredes. \\n&#39;"
     },
     "metadata": {},
     "execution_count": 6
    }
   ],
   "source": [
    "#Experimentos\n",
    "\"\"\"\n",
    "En Experimentos, se explica mayormente todo el proceso de desarrollo y expermientos que se ha hecho para poder llegar a la solución final. Antes de empezar con los algoritmos, se había comprobado primero el funcionamiento del movimiento del peón, el funcionamiento de las paredes y como estas restringen el movimiento del peón. Se ha experimentado programando varias paredes, como un laberinto, para revisar si en realidad restrigian el movimiento del peón. Después de haber convalidado todo ello, se empezó a implementar los algoritmos para hacer que el peón encuentre el camino a su meta designada. Para los algoritmos de fuerza bruta y backtracking se usó los métodos de recursividad basados en ejemplos vistos en las clases del curso de Complejidad Algoritmica, además de los valores creados que controlan los peones, paredes y el tablero. Para el caso de los algoritmos DFS y BFS, se ha tenido que reconfigurar el tablero como un grafo, incluyendo también algunas funciones de las paredes. \n",
    "\"\"\""
   ]
  },
  {
   "cell_type": "code",
   "execution_count": 7,
   "metadata": {},
   "outputs": [
    {
     "output_type": "execute_result",
     "data": {
      "text/plain": "&#39;\\nEn Solución, se explica detalladamente la solución al problema presentado en el trabajo, en este caso sería los algoritmos usados e implementados que permiten al peón buscar un camino hacia su meta, ya sea de la forma más o menos óptima posible. También debe estar tanto la identifiación del espacio de búsqueda, como las métricas que permitiran verificar la eficiencia de los algoritmos a utilizar.\\n&#39;"
     },
     "metadata": {},
     "execution_count": 7
    }
   ],
   "source": [
    "#Solución\n",
    "\"\"\"\n",
    "En Solución, se explica detalladamente la solución al problema presentado en el trabajo, en este caso sería los algoritmos usados e implementados que permiten al peón buscar un camino hacia su meta, ya sea de la forma más o menos óptima posible. También debe estar tanto la identifiación del espacio de búsqueda, como las métricas que permitiran verificar la eficiencia de los algoritmos a utilizar.\n",
    "\"\"\""
   ]
  },
  {
   "cell_type": "code",
   "execution_count": 8,
   "metadata": {},
   "outputs": [
    {
     "output_type": "execute_result",
     "data": {
      "text/plain": "&#39;\\nEn Conclusiones, simplemente es darle un cierre al trabajo con una síntesis que explique todo lo aprendido mientras se ha desarrollado el trabajo, además de que se de la opinión del grupo sobre la aplicación de los algoritmos enseñados en clase en la creación de una simulación del juego Quoridor. Debe ser breve y consisa.\\n&#39;"
     },
     "metadata": {},
     "execution_count": 8
    }
   ],
   "source": [
    "#Conclusiones\n",
    "\"\"\"\n",
    "En Conclusiones, simplemente es darle un cierre al trabajo con una síntesis que explique todo lo aprendido mientras se ha desarrollado el trabajo, además de que se de la opinión del grupo sobre la aplicación de los algoritmos enseñados en clase en la creación de una simulación del juego Quoridor. Debe ser breve y consisa.\n",
    "\"\"\""
   ]
  },
  {
   "cell_type": "code",
   "execution_count": 9,
   "metadata": {},
   "outputs": [
    {
     "output_type": "execute_result",
     "data": {
      "text/plain": "&#39;\\nEn Presentación, se debe presentar el trabajo en sí hacia el docente, explicando de manera breve y concisa todos los conceptos de la rúbrica explicados anteriormente. Se tiene como máximo 7 minutos de presentación, y se debe demostrar el funcionamiento de los algoritmos y la eficiencia de cada uno de ellos.\\n&#39;"
     },
     "metadata": {},
     "execution_count": 9
    }
   ],
   "source": [
    "#Presentación\n",
    "\"\"\"\n",
    "En Presentación, se debe presentar el trabajo en sí hacia el docente, explicando de manera breve y concisa todos los conceptos de la rúbrica explicados anteriormente. Se tiene como máximo 7 minutos de presentación, y se debe demostrar el funcionamiento de los algoritmos y la eficiencia de cada uno de ellos.\n",
    "\"\"\""
   ]
  },
  {
   "cell_type": "code",
   "execution_count": 10,
   "metadata": {},
   "outputs": [
    {
     "output_type": "execute_result",
     "data": {
      "text/plain": "&#39;\\nESTE MENSAJE DEBERÍA APARECER, SI NO COMUNICARSE CON EL RESPONABLE DEL PROYECTO\\n&#39;"
     },
     "metadata": {},
     "execution_count": 10
    }
   ],
   "source": [
    "#PRUEBA\n",
    "\"\"\"\n",
    "ESTE MENSAJE DEBERÍA APARECER, SI NO COMUNICARSE CON EL RESPONABLE DEL PROYECTO\n",
    "\"\"\""
   ]
  },
  {
   "cell_type": "code",
   "execution_count": 11,
   "metadata": {
    "tags": []
   },
   "outputs": [
    {
     "output_type": "stream",
     "name": "stdout",
     "text": "test\n"
    }
   ],
   "source": [
    "print(\"test\")"
   ]
  },
  {
   "cell_type": "code",
   "execution_count": null,
   "metadata": {},
   "outputs": [],
   "source": []
  }
 ]
}